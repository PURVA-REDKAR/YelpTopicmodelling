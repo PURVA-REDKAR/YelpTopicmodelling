{
 "cells": [
  {
   "cell_type": "code",
   "execution_count": 1,
   "metadata": {},
   "outputs": [],
   "source": [
    "import pandas as pd\n",
    "import matplotlib.pyplot as plt\n",
    "import seaborn as sns\n",
    "%matplotlib inline\n",
    "from io import BytesIO\n",
    "\n",
    "from google.cloud import storage\n",
    "\n",
    "storage_client = storage.Client()\n",
    "bucket = storage_client.get_bucket('capstone_p')\n",
    "blob = bucket.blob('yelp_business_merged_preprocessed.csv')\n",
    "path = \"gs://capstone_p/yelp_business_merged_preprocessed.csv\""
   ]
  },
  {
   "cell_type": "code",
   "execution_count": 2,
   "metadata": {},
   "outputs": [],
   "source": [
    "import pandas as pd\n",
    "import numpy as np\n",
    "from sklearn.svm import LinearSVC\n",
    "from nltk.tokenize import word_tokenize\n",
    "from nltk import pos_tag\n",
    "from nltk.corpus import stopwords\n",
    "from nltk.stem import WordNetLemmatizer\n",
    "from sklearn.preprocessing import LabelEncoder\n",
    "from collections import defaultdict\n",
    "from nltk.corpus import wordnet as wn\n",
    "from sklearn.feature_extraction.text import TfidfVectorizer\n",
    "from sklearn import model_selection, naive_bayes, svm\n",
    "from sklearn.metrics import accuracy_score\n",
    "import matplotlib.pyplot as plt\n",
    "import itertools\n",
    "from sklearn.metrics import confusion_matrix as cm,classification_report\n",
    "import sklearn.metrics as metrics\n",
    "from sklearn.feature_extraction.text import CountVectorizer"
   ]
  },
  {
   "cell_type": "code",
   "execution_count": 3,
   "metadata": {},
   "outputs": [],
   "source": [
    "data_com_buisness = pd.read_csv(path,encoding='utf-8')\n",
    "data_com_buisness =data_com_buisness.head(200000)"
   ]
  },
  {
   "cell_type": "code",
   "execution_count": 4,
   "metadata": {},
   "outputs": [],
   "source": [
    "from collections import Counter\n",
    " \n",
    "def balance_classes(xs, ys):\n",
    "##\"\"\"Undersample xs, ys to balance classes.\"\"\"\n",
    "  freqs = Counter(ys)\n",
    "  max_allowable = freqs.most_common()[-1][1]\n",
    "  num_added = {clss: 0 for clss in freqs.keys()}  \n",
    "  new_ys = []\n",
    "  new_xs = []\n",
    "  for i, y in enumerate(ys):\n",
    "    if num_added[y] < max_allowable:\n",
    "       new_ys.append(y)\n",
    "       new_xs.append(xs[i])\n",
    "       num_added[y] += 1\n",
    "  return new_xs, new_ys"
   ]
  },
  {
   "cell_type": "code",
   "execution_count": 5,
   "metadata": {},
   "outputs": [
    {
     "name": "stdout",
     "output_type": "stream",
     "text": [
      "Counter({5: 78617, 4: 52579, 3: 27848, 1: 22068, 2: 18888})\n",
      "Counter({1: 18888, 2: 18888, 3: 18888, 4: 18888, 5: 18888})\n"
     ]
    }
   ],
   "source": [
    "print(Counter(data_com_buisness['stars_y']))\n",
    "balanced_x, balanced_y = balance_classes(data_com_buisness['text_1'], data_com_buisness['stars_y'])\n",
    "print(Counter(balanced_y))"
   ]
  },
  {
   "cell_type": "code",
   "execution_count": 17,
   "metadata": {},
   "outputs": [],
   "source": [
    "Train_X_balanced, Test_X_balanced, Train_Y_balanced, Test_Y_balanced = model_selection.train_test_split(data_com_buisness['text_1'],data_com_buisness['stars_y'],test_size=0.3)"
   ]
  },
  {
   "cell_type": "code",
   "execution_count": 21,
   "metadata": {},
   "outputs": [],
   "source": [
    "from sklearn.feature_extraction.text import CountVectorizer\n",
    "vec_transformed = CountVectorizer(min_df=200, max_df=150.0, lowercase=True)\n",
    "data = vec_transformed.fit_transform(data_com_buisness['text_1'])"
   ]
  },
  {
   "cell_type": "code",
   "execution_count": 22,
   "metadata": {},
   "outputs": [
    {
     "data": {
      "text/plain": [
       "TfidfTransformer(norm='l2', smooth_idf=True, sublinear_tf=False, use_idf=True)"
      ]
     },
     "execution_count": 22,
     "metadata": {},
     "output_type": "execute_result"
    }
   ],
   "source": [
    "from sklearn.feature_extraction.text import TfidfTransformer\n",
    "tfidf_transformer=TfidfTransformer(smooth_idf=True,use_idf=True)\n",
    "tfidf_transformer.fit(data)"
   ]
  },
  {
   "cell_type": "code",
   "execution_count": 23,
   "metadata": {},
   "outputs": [
    {
     "data": {
      "text/html": [
       "<div>\n",
       "<style scoped>\n",
       "    .dataframe tbody tr th:only-of-type {\n",
       "        vertical-align: middle;\n",
       "    }\n",
       "\n",
       "    .dataframe tbody tr th {\n",
       "        vertical-align: top;\n",
       "    }\n",
       "\n",
       "    .dataframe thead th {\n",
       "        text-align: right;\n",
       "    }\n",
       "</style>\n",
       "<table border=\"1\" class=\"dataframe\">\n",
       "  <thead>\n",
       "    <tr style=\"text-align: right;\">\n",
       "      <th></th>\n",
       "      <th>idf_weights</th>\n",
       "    </tr>\n",
       "  </thead>\n",
       "  <tbody>\n",
       "    <tr>\n",
       "      <td>food</td>\n",
       "      <td>1.870904</td>\n",
       "    </tr>\n",
       "    <tr>\n",
       "      <td>place</td>\n",
       "      <td>1.924126</td>\n",
       "    </tr>\n",
       "    <tr>\n",
       "      <td>good</td>\n",
       "      <td>1.959556</td>\n",
       "    </tr>\n",
       "    <tr>\n",
       "      <td>great</td>\n",
       "      <td>2.082586</td>\n",
       "    </tr>\n",
       "    <tr>\n",
       "      <td>like</td>\n",
       "      <td>2.223008</td>\n",
       "    </tr>\n",
       "    <tr>\n",
       "      <td>...</td>\n",
       "      <td>...</td>\n",
       "    </tr>\n",
       "    <tr>\n",
       "      <td>overheard</td>\n",
       "      <td>7.902773</td>\n",
       "    </tr>\n",
       "    <tr>\n",
       "      <td>chefs</td>\n",
       "      <td>7.902773</td>\n",
       "    </tr>\n",
       "    <tr>\n",
       "      <td>sang</td>\n",
       "      <td>7.902773</td>\n",
       "    </tr>\n",
       "    <tr>\n",
       "      <td>grandmoth</td>\n",
       "      <td>7.902773</td>\n",
       "    </tr>\n",
       "    <tr>\n",
       "      <td>grape</td>\n",
       "      <td>7.902773</td>\n",
       "    </tr>\n",
       "  </tbody>\n",
       "</table>\n",
       "<p>4364 rows × 1 columns</p>\n",
       "</div>"
      ],
      "text/plain": [
       "           idf_weights\n",
       "food          1.870904\n",
       "place         1.924126\n",
       "good          1.959556\n",
       "great         2.082586\n",
       "like          2.223008\n",
       "...                ...\n",
       "overheard     7.902773\n",
       "chefs         7.902773\n",
       "sang          7.902773\n",
       "grandmoth     7.902773\n",
       "grape         7.902773\n",
       "\n",
       "[4364 rows x 1 columns]"
      ]
     },
     "execution_count": 23,
     "metadata": {},
     "output_type": "execute_result"
    }
   ],
   "source": [
    "# print idf values\n",
    "df_idf = pd.DataFrame(tfidf_transformer.idf_, index=vec_transformed.get_feature_names(),columns=[\"idf_weights\"])\n",
    " \n",
    "# sort ascending\n",
    "df_idf.sort_values(by=['idf_weights'])"
   ]
  },
  {
   "cell_type": "code",
   "execution_count": 28,
   "metadata": {},
   "outputs": [],
   "source": [
    "# count matrix\n",
    "count_vector=vec_transformed.transform(data_com_buisness['text_1'])\n",
    " \n",
    "# tf-idf scores\n",
    "tf_idf_vector=tfidf_transformer.transform(count_vector)"
   ]
  },
  {
   "cell_type": "code",
   "execution_count": 48,
   "metadata": {},
   "outputs": [
    {
     "data": {
      "text/plain": [
       "(200000, 7916)"
      ]
     },
     "execution_count": 48,
     "metadata": {},
     "output_type": "execute_result"
    }
   ],
   "source": [
    "tf_idf_vector.shape"
   ]
  },
  {
   "cell_type": "code",
   "execution_count": 29,
   "metadata": {},
   "outputs": [
    {
     "data": {
      "text/html": [
       "<div>\n",
       "<style scoped>\n",
       "    .dataframe tbody tr th:only-of-type {\n",
       "        vertical-align: middle;\n",
       "    }\n",
       "\n",
       "    .dataframe tbody tr th {\n",
       "        vertical-align: top;\n",
       "    }\n",
       "\n",
       "    .dataframe thead th {\n",
       "        text-align: right;\n",
       "    }\n",
       "</style>\n",
       "<table border=\"1\" class=\"dataframe\">\n",
       "  <thead>\n",
       "    <tr style=\"text-align: right;\">\n",
       "      <th></th>\n",
       "      <th>tfidf</th>\n",
       "    </tr>\n",
       "  </thead>\n",
       "  <tbody>\n",
       "    <tr>\n",
       "      <td>brick</td>\n",
       "      <td>0.366105</td>\n",
       "    </tr>\n",
       "    <tr>\n",
       "      <td>alway</td>\n",
       "      <td>0.331495</td>\n",
       "    </tr>\n",
       "    <tr>\n",
       "      <td>polit</td>\n",
       "      <td>0.311215</td>\n",
       "    </tr>\n",
       "    <tr>\n",
       "      <td>beautiful</td>\n",
       "      <td>0.304133</td>\n",
       "    </tr>\n",
       "    <tr>\n",
       "      <td>summer</td>\n",
       "      <td>0.291106</td>\n",
       "    </tr>\n",
       "    <tr>\n",
       "      <td>...</td>\n",
       "      <td>...</td>\n",
       "    </tr>\n",
       "    <tr>\n",
       "      <td>factori</td>\n",
       "      <td>0.000000</td>\n",
       "    </tr>\n",
       "    <tr>\n",
       "      <td>fail</td>\n",
       "      <td>0.000000</td>\n",
       "    </tr>\n",
       "    <tr>\n",
       "      <td>fair</td>\n",
       "      <td>0.000000</td>\n",
       "    </tr>\n",
       "    <tr>\n",
       "      <td>fajita</td>\n",
       "      <td>0.000000</td>\n",
       "    </tr>\n",
       "    <tr>\n",
       "      <td>zucchini</td>\n",
       "      <td>0.000000</td>\n",
       "    </tr>\n",
       "  </tbody>\n",
       "</table>\n",
       "<p>4364 rows × 1 columns</p>\n",
       "</div>"
      ],
      "text/plain": [
       "              tfidf\n",
       "brick      0.366105\n",
       "alway      0.331495\n",
       "polit      0.311215\n",
       "beautiful  0.304133\n",
       "summer     0.291106\n",
       "...             ...\n",
       "factori    0.000000\n",
       "fail       0.000000\n",
       "fair       0.000000\n",
       "fajita     0.000000\n",
       "zucchini   0.000000\n",
       "\n",
       "[4364 rows x 1 columns]"
      ]
     },
     "execution_count": 29,
     "metadata": {},
     "output_type": "execute_result"
    }
   ],
   "source": [
    "tf_idf_vector.shape\n",
    "feature_names = vec_transformed.get_feature_names()\n",
    " \n",
    "#get tfidf vector for first document\n",
    "first_document_vector=tf_idf_vector[0]\n",
    " \n",
    "#print the scores\n",
    "df = pd.DataFrame(first_document_vector.T.todense(), index=feature_names, columns=[\"tfidf\"])\n",
    "df.sort_values(by=[\"tfidf\"],ascending=False)"
   ]
  },
  {
   "cell_type": "code",
   "execution_count": 30,
   "metadata": {},
   "outputs": [],
   "source": [
    "# count matrix\n",
    "count_vector=vec_transformed.transform(Train_X_balanced)\n",
    " \n",
    "# tf-idf scores\n",
    "Train_X_Tfidf=tfidf_transformer.transform(count_vector)\n",
    "\n",
    "# count matrix\n",
    "count_vector=vec_transformed.transform(Test_X_balanced)\n",
    " \n",
    "# tf-idf scores\n",
    "Test_X_Tfidf=tfidf_transformer.transform(count_vector)"
   ]
  },
  {
   "cell_type": "code",
   "execution_count": 31,
   "metadata": {},
   "outputs": [],
   "source": [
    "# count matrix\n",
    "count_vector=vec_transformed.transform(Test_X_balanced)\n",
    " \n",
    "# tf-idf scores\n",
    "Test_X_Tfidf=tfidf_transformer.transform(count_vector)"
   ]
  },
  {
   "cell_type": "code",
   "execution_count": 32,
   "metadata": {},
   "outputs": [
    {
     "name": "stderr",
     "output_type": "stream",
     "text": [
      "/usr/local/lib/python3.5/dist-packages/sklearn/linear_model/logistic.py:432: FutureWarning: Default solver will be changed to 'lbfgs' in 0.22. Specify a solver to silence this warning.\n",
      "  FutureWarning)\n",
      "/usr/local/lib/python3.5/dist-packages/sklearn/linear_model/logistic.py:469: FutureWarning: Default multi_class will be changed to 'auto' in 0.22. Specify the multi_class option to silence this warning.\n",
      "  \"this warning.\", FutureWarning)\n"
     ]
    },
    {
     "data": {
      "text/plain": [
       "LogisticRegression(C=100000.0, class_weight=None, dual=False,\n",
       "                   fit_intercept=True, intercept_scaling=1, l1_ratio=None,\n",
       "                   max_iter=100, multi_class='warn', n_jobs=1, penalty='l2',\n",
       "                   random_state=None, solver='warn', tol=0.0001, verbose=0,\n",
       "                   warm_start=False)"
      ]
     },
     "execution_count": 32,
     "metadata": {},
     "output_type": "execute_result"
    }
   ],
   "source": [
    "from sklearn.linear_model import LogisticRegression\n",
    "logreg = LogisticRegression(n_jobs=1, C=1e5)\n",
    "logreg.fit(Train_X_Tfidf,Train_Y_balanced)\n"
   ]
  },
  {
   "cell_type": "code",
   "execution_count": 33,
   "metadata": {
    "scrolled": true
   },
   "outputs": [
    {
     "name": "stdout",
     "output_type": "stream",
     "text": [
      "[[ 4806   920   390   235   301]\n",
      " [ 1536  1616  1435   707   366]\n",
      " [  554  1013  2931  3006   991]\n",
      " [  188   229  1281  7622  6400]\n",
      " [  176    89   283  3513 19412]]\n",
      "\n",
      "\n",
      "Classification Report \n",
      "              precision    recall  f1-score   support\n",
      "\n",
      "           1       0.66      0.72      0.69      6652\n",
      "           2       0.42      0.29      0.34      5660\n",
      "           3       0.46      0.35      0.40      8495\n",
      "           4       0.51      0.48      0.49     15720\n",
      "           5       0.71      0.83      0.76     23473\n",
      "\n",
      "    accuracy                           0.61     60000\n",
      "   macro avg       0.55      0.53      0.54     60000\n",
      "weighted avg       0.59      0.61      0.59     60000\n",
      "\n",
      "log reg  Accuracy Score -> 0.60645\n"
     ]
    }
   ],
   "source": [
    "y_pred = logreg.predict(Test_X_Tfidf)\n",
    "print(cm(Test_Y_balanced, y_pred))\n",
    "print('\\n')\n",
    "print(\"Classification Report \")\n",
    "print(classification_report(Test_Y_balanced, y_pred))\n",
    "print(\"log reg  Accuracy Score ->\",metrics.accuracy_score(Test_Y_balanced, y_pred))"
   ]
  },
  {
   "cell_type": "code",
   "execution_count": 35,
   "metadata": {},
   "outputs": [
    {
     "name": "stdout",
     "output_type": "stream",
     "text": [
      "[[ 5016   780   334   205   317]\n",
      " [ 1741  1459  1343   713   404]\n",
      " [  634   928  2718  3133  1082]\n",
      " [  229   199  1116  7453  6723]\n",
      " [  175    78   240  3220 19760]]\n",
      "\n",
      "\n",
      "Classification Report \n",
      "              precision    recall  f1-score   support\n",
      "\n",
      "           1       0.64      0.75      0.69      6652\n",
      "           2       0.42      0.26      0.32      5660\n",
      "           3       0.47      0.32      0.38      8495\n",
      "           4       0.51      0.47      0.49     15720\n",
      "           5       0.70      0.84      0.76     23473\n",
      "\n",
      "    accuracy                           0.61     60000\n",
      "   macro avg       0.55      0.53      0.53     60000\n",
      "weighted avg       0.58      0.61      0.59     60000\n",
      "\n",
      "log reg  Accuracy Score -> 0.6067666666666667\n"
     ]
    }
   ],
   "source": [
    "from sklearn.svm import LinearSVC\n",
    "model = LinearSVC()\n",
    "model.fit(Train_X_Tfidf,Train_Y_balanced)\n",
    "y_pred_svc1 = model.predict(Test_X_Tfidf)\n",
    "print(cm(Test_Y_balanced, y_pred_svc1))\n",
    "print('\\n')\n",
    "print(\"Classification Report \")\n",
    "print(classification_report(Test_Y_balanced, y_pred_svc1))\n",
    "print(\"log reg  Accuracy Score ->\",metrics.accuracy_score(Test_Y_balanced, y_pred_svc1))"
   ]
  },
  {
   "cell_type": "code",
   "execution_count": 37,
   "metadata": {},
   "outputs": [
    {
     "data": {
      "text/html": [
       "<div>\n",
       "<style scoped>\n",
       "    .dataframe tbody tr th:only-of-type {\n",
       "        vertical-align: middle;\n",
       "    }\n",
       "\n",
       "    .dataframe tbody tr th {\n",
       "        vertical-align: top;\n",
       "    }\n",
       "\n",
       "    .dataframe thead th {\n",
       "        text-align: right;\n",
       "    }\n",
       "</style>\n",
       "<table border=\"1\" class=\"dataframe\">\n",
       "  <thead>\n",
       "    <tr style=\"text-align: right;\">\n",
       "      <th></th>\n",
       "      <th>idf_weights</th>\n",
       "    </tr>\n",
       "  </thead>\n",
       "  <tbody>\n",
       "    <tr>\n",
       "      <td>food</td>\n",
       "      <td>1.870904</td>\n",
       "    </tr>\n",
       "    <tr>\n",
       "      <td>place</td>\n",
       "      <td>1.924126</td>\n",
       "    </tr>\n",
       "    <tr>\n",
       "      <td>good</td>\n",
       "      <td>1.959556</td>\n",
       "    </tr>\n",
       "    <tr>\n",
       "      <td>great</td>\n",
       "      <td>2.082586</td>\n",
       "    </tr>\n",
       "    <tr>\n",
       "      <td>like</td>\n",
       "      <td>2.223008</td>\n",
       "    </tr>\n",
       "    <tr>\n",
       "      <td>...</td>\n",
       "      <td>...</td>\n",
       "    </tr>\n",
       "    <tr>\n",
       "      <td>extra star</td>\n",
       "      <td>7.902773</td>\n",
       "    </tr>\n",
       "    <tr>\n",
       "      <td>huge plus</td>\n",
       "      <td>7.902773</td>\n",
       "    </tr>\n",
       "    <tr>\n",
       "      <td>vietnames restaur</td>\n",
       "      <td>7.902773</td>\n",
       "    </tr>\n",
       "    <tr>\n",
       "      <td>boys</td>\n",
       "      <td>7.902773</td>\n",
       "    </tr>\n",
       "    <tr>\n",
       "      <td>grape</td>\n",
       "      <td>7.902773</td>\n",
       "    </tr>\n",
       "  </tbody>\n",
       "</table>\n",
       "<p>7916 rows × 1 columns</p>\n",
       "</div>"
      ],
      "text/plain": [
       "                   idf_weights\n",
       "food                  1.870904\n",
       "place                 1.924126\n",
       "good                  1.959556\n",
       "great                 2.082586\n",
       "like                  2.223008\n",
       "...                        ...\n",
       "extra star            7.902773\n",
       "huge plus             7.902773\n",
       "vietnames restaur     7.902773\n",
       "boys                  7.902773\n",
       "grape                 7.902773\n",
       "\n",
       "[7916 rows x 1 columns]"
      ]
     },
     "execution_count": 37,
     "metadata": {},
     "output_type": "execute_result"
    }
   ],
   "source": [
    "from sklearn.feature_extraction.text import CountVectorizer\n",
    "vec_transformed = CountVectorizer(min_df=200, max_df=150.0, lowercase=True,ngram_range=(1, 2), analyzer='word')\n",
    "data = vec_transformed.fit_transform(data_com_buisness['text_1'])\n",
    "\n",
    "from sklearn.feature_extraction.text import TfidfTransformer\n",
    "tfidf_transformer=TfidfTransformer(smooth_idf=True,use_idf=True)\n",
    "tfidf_transformer.fit(data)\n",
    "\n",
    "df_idf = pd.DataFrame(tfidf_transformer.idf_, index=vec_transformed.get_feature_names(),columns=[\"idf_weights\"])\n",
    " \n",
    "# sort ascending\n",
    "df_idf.sort_values(by=['idf_weights'])"
   ]
  },
  {
   "cell_type": "code",
   "execution_count": 38,
   "metadata": {},
   "outputs": [],
   "source": [
    "# count matrix\n",
    "count_vector=vec_transformed.transform(data_com_buisness['text_1'])\n",
    " \n",
    "# tf-idf scores\n",
    "tf_idf_vector=tfidf_transformer.transform(count_vector)"
   ]
  },
  {
   "cell_type": "code",
   "execution_count": 39,
   "metadata": {},
   "outputs": [
    {
     "data": {
      "text/html": [
       "<div>\n",
       "<style scoped>\n",
       "    .dataframe tbody tr th:only-of-type {\n",
       "        vertical-align: middle;\n",
       "    }\n",
       "\n",
       "    .dataframe tbody tr th {\n",
       "        vertical-align: top;\n",
       "    }\n",
       "\n",
       "    .dataframe thead th {\n",
       "        text-align: right;\n",
       "    }\n",
       "</style>\n",
       "<table border=\"1\" class=\"dataframe\">\n",
       "  <thead>\n",
       "    <tr style=\"text-align: right;\">\n",
       "      <th></th>\n",
       "      <th>tfidf</th>\n",
       "    </tr>\n",
       "  </thead>\n",
       "  <tbody>\n",
       "    <tr>\n",
       "      <td>enjoy time</td>\n",
       "      <td>0.321210</td>\n",
       "    </tr>\n",
       "    <tr>\n",
       "      <td>alway enjoy</td>\n",
       "      <td>0.312027</td>\n",
       "    </tr>\n",
       "    <tr>\n",
       "      <td>brick</td>\n",
       "      <td>0.294162</td>\n",
       "    </tr>\n",
       "    <tr>\n",
       "      <td>never disappoint</td>\n",
       "      <td>0.292690</td>\n",
       "    </tr>\n",
       "    <tr>\n",
       "      <td>alway</td>\n",
       "      <td>0.266353</td>\n",
       "    </tr>\n",
       "    <tr>\n",
       "      <td>...</td>\n",
       "      <td>...</td>\n",
       "    </tr>\n",
       "    <tr>\n",
       "      <td>fortun</td>\n",
       "      <td>0.000000</td>\n",
       "    </tr>\n",
       "    <tr>\n",
       "      <td>forth</td>\n",
       "      <td>0.000000</td>\n",
       "    </tr>\n",
       "    <tr>\n",
       "      <td>former</td>\n",
       "      <td>0.000000</td>\n",
       "    </tr>\n",
       "    <tr>\n",
       "      <td>formal</td>\n",
       "      <td>0.000000</td>\n",
       "    </tr>\n",
       "    <tr>\n",
       "      <td>zucchini</td>\n",
       "      <td>0.000000</td>\n",
       "    </tr>\n",
       "  </tbody>\n",
       "</table>\n",
       "<p>7916 rows × 1 columns</p>\n",
       "</div>"
      ],
      "text/plain": [
       "                     tfidf\n",
       "enjoy time        0.321210\n",
       "alway enjoy       0.312027\n",
       "brick             0.294162\n",
       "never disappoint  0.292690\n",
       "alway             0.266353\n",
       "...                    ...\n",
       "fortun            0.000000\n",
       "forth             0.000000\n",
       "former            0.000000\n",
       "formal            0.000000\n",
       "zucchini          0.000000\n",
       "\n",
       "[7916 rows x 1 columns]"
      ]
     },
     "execution_count": 39,
     "metadata": {},
     "output_type": "execute_result"
    }
   ],
   "source": [
    "feature_names = vec_transformed.get_feature_names()\n",
    " \n",
    "#get tfidf vector for first document\n",
    "first_document_vector=tf_idf_vector[0]\n",
    " \n",
    "#print the scores\n",
    "df = pd.DataFrame(first_document_vector.T.todense(), index=feature_names, columns=[\"tfidf\"])\n",
    "df.sort_values(by=[\"tfidf\"],ascending=False)"
   ]
  },
  {
   "cell_type": "code",
   "execution_count": 40,
   "metadata": {},
   "outputs": [],
   "source": [
    "count_vector=vec_transformed.transform(Train_X_balanced)\n",
    " \n",
    "# tf-idf scores\n",
    "Train_X_Tfidf=tfidf_transformer.transform(count_vector)"
   ]
  },
  {
   "cell_type": "code",
   "execution_count": 41,
   "metadata": {},
   "outputs": [],
   "source": [
    "# count matrix\n",
    "count_vector=vec_transformed.transform(Test_X_balanced)\n",
    " \n",
    "# tf-idf scores\n",
    "Test_X_Tfidf=tfidf_transformer.transform(count_vector)"
   ]
  },
  {
   "cell_type": "code",
   "execution_count": 42,
   "metadata": {},
   "outputs": [
    {
     "name": "stdout",
     "output_type": "stream",
     "text": [
      "[[ 4924   914   351   202   261]\n",
      " [ 1625  1634  1393   663   345]\n",
      " [  569  1063  2998  2936   929]\n",
      " [  193   248  1258  7671  6350]\n",
      " [  149    84   300  3418 19522]]\n",
      "\n",
      "\n",
      "Classification Report \n",
      "              precision    recall  f1-score   support\n",
      "\n",
      "           1       0.66      0.74      0.70      6652\n",
      "           2       0.41      0.29      0.34      5660\n",
      "           3       0.48      0.35      0.41      8495\n",
      "           4       0.52      0.49      0.50     15720\n",
      "           5       0.71      0.83      0.77     23473\n",
      "\n",
      "    accuracy                           0.61     60000\n",
      "   macro avg       0.56      0.54      0.54     60000\n",
      "weighted avg       0.59      0.61      0.60     60000\n",
      "\n",
      "log reg  Accuracy Score -> 0.6124833333333334\n"
     ]
    }
   ],
   "source": []
  },
  {
   "cell_type": "code",
   "execution_count": 43,
   "metadata": {},
   "outputs": [
    {
     "name": "stderr",
     "output_type": "stream",
     "text": [
      "/usr/local/lib/python3.5/dist-packages/sklearn/linear_model/logistic.py:432: FutureWarning: Default solver will be changed to 'lbfgs' in 0.22. Specify a solver to silence this warning.\n",
      "  FutureWarning)\n",
      "/usr/local/lib/python3.5/dist-packages/sklearn/linear_model/logistic.py:469: FutureWarning: Default multi_class will be changed to 'auto' in 0.22. Specify the multi_class option to silence this warning.\n",
      "  \"this warning.\", FutureWarning)\n"
     ]
    },
    {
     "name": "stdout",
     "output_type": "stream",
     "text": [
      "[[ 4632  1086   450   240   244]\n",
      " [ 1477  1737  1475   665   306]\n",
      " [  530  1144  3128  2826   867]\n",
      " [  222   298  1480  7671  6049]\n",
      " [  168    99   331  3709 19166]]\n",
      "\n",
      "\n",
      "Classification Report \n",
      "              precision    recall  f1-score   support\n",
      "\n",
      "           1       0.66      0.70      0.68      6652\n",
      "           2       0.40      0.31      0.35      5660\n",
      "           3       0.46      0.37      0.41      8495\n",
      "           4       0.51      0.49      0.50     15720\n",
      "           5       0.72      0.82      0.77     23473\n",
      "\n",
      "    accuracy                           0.61     60000\n",
      "   macro avg       0.55      0.54      0.54     60000\n",
      "weighted avg       0.59      0.61      0.60     60000\n",
      "\n",
      "log reg  Accuracy Score -> 0.6055666666666667\n"
     ]
    }
   ],
   "source": [
    "from sklearn.linear_model import LogisticRegression\n",
    "logreg = LogisticRegression(n_jobs=1, C=1e5)\n",
    "logreg.fit(Train_X_Tfidf,Train_Y_balanced)\n",
    "y_pred = logreg.predict(Test_X_Tfidf)\n",
    "print(cm(Test_Y_balanced, y_pred))\n",
    "print('\\n')\n",
    "print(\"Classification Report \")\n",
    "print(classification_report(Test_Y_balanced, y_pred))\n",
    "print(\"log reg  Accuracy Score ->\",metrics.accuracy_score(Test_Y_balanced, y_pred))"
   ]
  },
  {
   "cell_type": "code",
   "execution_count": 46,
   "metadata": {},
   "outputs": [
    {
     "data": {
      "text/plain": [
       "GradientBoostingClassifier(criterion='friedman_mse', init=None,\n",
       "                           learning_rate=1.0, loss='deviance', max_depth=50,\n",
       "                           max_features=200, max_leaf_nodes=None,\n",
       "                           min_impurity_decrease=0.0, min_impurity_split=None,\n",
       "                           min_samples_leaf=1, min_samples_split=2,\n",
       "                           min_weight_fraction_leaf=0.0, n_estimators=20,\n",
       "                           n_iter_no_change=None, presort='auto',\n",
       "                           random_state=0, subsample=1.0, tol=0.0001,\n",
       "                           validation_fraction=0.1, verbose=0,\n",
       "                           warm_start=False)"
      ]
     },
     "execution_count": 46,
     "metadata": {},
     "output_type": "execute_result"
    }
   ],
   "source": [
    "import pandas as pd\n",
    "from sklearn.preprocessing import MinMaxScaler\n",
    "from sklearn.model_selection import train_test_split\n",
    "from sklearn.metrics import classification_report, confusion_matrix\n",
    "from sklearn.ensemble import GradientBoostingClassifier\n",
    "\n",
    "gb_clf = GradientBoostingClassifier(n_estimators=20, learning_rate=1.0, max_features=200, max_depth=50, random_state=0)\n",
    "gb_clf.fit(Train_X_Tfidf,Train_Y_balanced)\n",
    "\n",
    "y_pred = gb_clf.predict(Test_X_Tfidf)\n",
    "print(cm(Test_Y_balanced, y_pred))\n",
    "print('\\n')\n",
    "print(\"Classification Report \")\n",
    "print(classification_report(Test_Y_balanced, y_pred))\n",
    "print(\"grad Accuracy Score ->\",metrics.accuracy_score(Test_Y_balanced, y_pred))\n"
   ]
  },
  {
   "cell_type": "code",
   "execution_count": 47,
   "metadata": {},
   "outputs": [
    {
     "name": "stdout",
     "output_type": "stream",
     "text": [
      "[[ 2710  1170   894   864  1014]\n",
      " [  965  1050  1340  1426   879]\n",
      " [  604   968  2097  3332  1494]\n",
      " [  495   682  1766  6463  6314]\n",
      " [  568   520  1004  4911 16470]]\n",
      "\n",
      "\n",
      "Classification Report \n",
      "              precision    recall  f1-score   support\n",
      "\n",
      "           1       0.51      0.41      0.45      6652\n",
      "           2       0.24      0.19      0.21      5660\n",
      "           3       0.30      0.25      0.27      8495\n",
      "           4       0.38      0.41      0.40     15720\n",
      "           5       0.63      0.70      0.66     23473\n",
      "\n",
      "    accuracy                           0.48     60000\n",
      "   macro avg       0.41      0.39      0.40     60000\n",
      "weighted avg       0.47      0.48      0.47     60000\n",
      "\n",
      "log reg  Accuracy Score -> 0.47983333333333333\n"
     ]
    }
   ],
   "source": []
  },
  {
   "cell_type": "code",
   "execution_count": 62,
   "metadata": {},
   "outputs": [
    {
     "data": {
      "text/html": [
       "<div>\n",
       "<style scoped>\n",
       "    .dataframe tbody tr th:only-of-type {\n",
       "        vertical-align: middle;\n",
       "    }\n",
       "\n",
       "    .dataframe tbody tr th {\n",
       "        vertical-align: top;\n",
       "    }\n",
       "\n",
       "    .dataframe thead th {\n",
       "        text-align: right;\n",
       "    }\n",
       "</style>\n",
       "<table border=\"1\" class=\"dataframe\">\n",
       "  <thead>\n",
       "    <tr style=\"text-align: right;\">\n",
       "      <th></th>\n",
       "      <th>idf_weights</th>\n",
       "    </tr>\n",
       "  </thead>\n",
       "  <tbody>\n",
       "    <tr>\n",
       "      <td>food</td>\n",
       "      <td>1.870904</td>\n",
       "    </tr>\n",
       "    <tr>\n",
       "      <td>place</td>\n",
       "      <td>1.924126</td>\n",
       "    </tr>\n",
       "    <tr>\n",
       "      <td>good</td>\n",
       "      <td>1.959556</td>\n",
       "    </tr>\n",
       "    <tr>\n",
       "      <td>great</td>\n",
       "      <td>2.082586</td>\n",
       "    </tr>\n",
       "    <tr>\n",
       "      <td>like</td>\n",
       "      <td>2.223008</td>\n",
       "    </tr>\n",
       "    <tr>\n",
       "      <td>...</td>\n",
       "      <td>...</td>\n",
       "    </tr>\n",
       "    <tr>\n",
       "      <td>promptly</td>\n",
       "      <td>7.212116</td>\n",
       "    </tr>\n",
       "    <tr>\n",
       "      <td>afterwards</td>\n",
       "      <td>7.212116</td>\n",
       "    </tr>\n",
       "    <tr>\n",
       "      <td>underwhelm</td>\n",
       "      <td>7.212116</td>\n",
       "    </tr>\n",
       "    <tr>\n",
       "      <td>wait minut</td>\n",
       "      <td>7.212116</td>\n",
       "    </tr>\n",
       "    <tr>\n",
       "      <td>still wait</td>\n",
       "      <td>7.212116</td>\n",
       "    </tr>\n",
       "  </tbody>\n",
       "</table>\n",
       "<p>4090 rows × 1 columns</p>\n",
       "</div>"
      ],
      "text/plain": [
       "            idf_weights\n",
       "food           1.870904\n",
       "place          1.924126\n",
       "good           1.959556\n",
       "great          2.082586\n",
       "like           2.223008\n",
       "...                 ...\n",
       "promptly       7.212116\n",
       "afterwards     7.212116\n",
       "underwhelm     7.212116\n",
       "wait minut     7.212116\n",
       "still wait     7.212116\n",
       "\n",
       "[4090 rows x 1 columns]"
      ]
     },
     "execution_count": 62,
     "metadata": {},
     "output_type": "execute_result"
    }
   ],
   "source": [
    "from sklearn.feature_extraction.text import CountVectorizer\n",
    "vec_transformed = CountVectorizer(min_df=400, max_df=290.0, lowercase=True,ngram_range=(1, 3), analyzer='word')\n",
    "data = vec_transformed.fit_transform(data_com_buisness['text_1'])\n",
    "\n",
    "from sklearn.feature_extraction.text import TfidfTransformer\n",
    "tfidf_transformer=TfidfTransformer(smooth_idf=True,use_idf=True)\n",
    "tfidf_transformer.fit(data)\n",
    "\n",
    "df_idf = pd.DataFrame(tfidf_transformer.idf_, index=vec_transformed.get_feature_names(),columns=[\"idf_weights\"])\n",
    " \n",
    "# sort ascending\n",
    "df_idf.sort_values(by=['idf_weights'])"
   ]
  },
  {
   "cell_type": "code",
   "execution_count": 63,
   "metadata": {},
   "outputs": [],
   "source": [
    "# count matrix\n",
    "count_vector=vec_transformed.transform(data_com_buisness['text_1'])\n",
    " \n",
    "# tf-idf scores\n",
    "tf_idf_vector=tfidf_transformer.transform(count_vector)"
   ]
  },
  {
   "cell_type": "code",
   "execution_count": 64,
   "metadata": {},
   "outputs": [
    {
     "data": {
      "text/plain": [
       "(200000, 4090)"
      ]
     },
     "execution_count": 64,
     "metadata": {},
     "output_type": "execute_result"
    }
   ],
   "source": [
    "tf_idf_vector.shape"
   ]
  },
  {
   "cell_type": "code",
   "execution_count": 65,
   "metadata": {},
   "outputs": [
    {
     "data": {
      "text/html": [
       "<div>\n",
       "<style scoped>\n",
       "    .dataframe tbody tr th:only-of-type {\n",
       "        vertical-align: middle;\n",
       "    }\n",
       "\n",
       "    .dataframe tbody tr th {\n",
       "        vertical-align: top;\n",
       "    }\n",
       "\n",
       "    .dataframe thead th {\n",
       "        text-align: right;\n",
       "    }\n",
       "</style>\n",
       "<table border=\"1\" class=\"dataframe\">\n",
       "  <thead>\n",
       "    <tr style=\"text-align: right;\">\n",
       "      <th></th>\n",
       "      <th>tfidf</th>\n",
       "    </tr>\n",
       "  </thead>\n",
       "  <tbody>\n",
       "    <tr>\n",
       "      <td>brick</td>\n",
       "      <td>0.328993</td>\n",
       "    </tr>\n",
       "    <tr>\n",
       "      <td>never disappoint</td>\n",
       "      <td>0.327348</td>\n",
       "    </tr>\n",
       "    <tr>\n",
       "      <td>alway</td>\n",
       "      <td>0.297892</td>\n",
       "    </tr>\n",
       "    <tr>\n",
       "      <td>staff alway</td>\n",
       "      <td>0.292074</td>\n",
       "    </tr>\n",
       "    <tr>\n",
       "      <td>polit</td>\n",
       "      <td>0.279667</td>\n",
       "    </tr>\n",
       "    <tr>\n",
       "      <td>...</td>\n",
       "      <td>...</td>\n",
       "    </tr>\n",
       "    <tr>\n",
       "      <td>food look</td>\n",
       "      <td>0.000000</td>\n",
       "    </tr>\n",
       "    <tr>\n",
       "      <td>food love</td>\n",
       "      <td>0.000000</td>\n",
       "    </tr>\n",
       "    <tr>\n",
       "      <td>food menu</td>\n",
       "      <td>0.000000</td>\n",
       "    </tr>\n",
       "    <tr>\n",
       "      <td>food ok</td>\n",
       "      <td>0.000000</td>\n",
       "    </tr>\n",
       "    <tr>\n",
       "      <td>zucchini</td>\n",
       "      <td>0.000000</td>\n",
       "    </tr>\n",
       "  </tbody>\n",
       "</table>\n",
       "<p>4090 rows × 1 columns</p>\n",
       "</div>"
      ],
      "text/plain": [
       "                     tfidf\n",
       "brick             0.328993\n",
       "never disappoint  0.327348\n",
       "alway             0.297892\n",
       "staff alway       0.292074\n",
       "polit             0.279667\n",
       "...                    ...\n",
       "food look         0.000000\n",
       "food love         0.000000\n",
       "food menu         0.000000\n",
       "food ok           0.000000\n",
       "zucchini          0.000000\n",
       "\n",
       "[4090 rows x 1 columns]"
      ]
     },
     "execution_count": 65,
     "metadata": {},
     "output_type": "execute_result"
    }
   ],
   "source": [
    "\n",
    "feature_names = vec_transformed.get_feature_names()\n",
    " \n",
    "#get tfidf vector for first document\n",
    "first_document_vector=tf_idf_vector[0]\n",
    " \n",
    "#print the scores\n",
    "df = pd.DataFrame(first_document_vector.T.todense(), index=feature_names, columns=[\"tfidf\"])\n",
    "df.sort_values(by=[\"tfidf\"],ascending=False)"
   ]
  },
  {
   "cell_type": "code",
   "execution_count": 66,
   "metadata": {},
   "outputs": [],
   "source": [
    "# count matrix\n",
    "count_vector=vec_transformed.transform(Train_X_balanced)\n",
    " \n",
    "# tf-idf scores\n",
    "Train_X_Tfidf=tfidf_transformer.transform(count_vector)\n",
    "\n",
    "# count matrix\n",
    "count_vector=vec_transformed.transform(Test_X_balanced)\n",
    " \n",
    "# tf-idf scores\n",
    "Test_X_Tfidf=tfidf_transformer.transform(count_vector)"
   ]
  },
  {
   "cell_type": "code",
   "execution_count": 67,
   "metadata": {},
   "outputs": [
    {
     "name": "stdout",
     "output_type": "stream",
     "text": [
      "[[ 5077   765   337   192   281]\n",
      " [ 1699  1527  1377   682   375]\n",
      " [  626   946  2884  3047   992]\n",
      " [  206   222  1120  7642  6530]\n",
      " [  167    77   245  3255 19729]]\n",
      "\n",
      "\n",
      "Classification Report \n",
      "              precision    recall  f1-score   support\n",
      "\n",
      "           1       0.65      0.76      0.70      6652\n",
      "           2       0.43      0.27      0.33      5660\n",
      "           3       0.48      0.34      0.40      8495\n",
      "           4       0.52      0.49      0.50     15720\n",
      "           5       0.71      0.84      0.77     23473\n",
      "\n",
      "    accuracy                           0.61     60000\n",
      "   macro avg       0.56      0.54      0.54     60000\n",
      "weighted avg       0.59      0.61      0.60     60000\n",
      "\n",
      "log reg  Accuracy Score -> 0.6143166666666666\n"
     ]
    }
   ],
   "source": [
    "from sklearn.svm import LinearSVC\n",
    "model = LinearSVC()\n",
    "model.fit(Train_X_Tfidf,Train_Y_balanced)\n",
    "y_pred_svc1 = model.predict(Test_X_Tfidf)\n",
    "print(cm(Test_Y_balanced, y_pred_svc1))\n",
    "print('\\n')\n",
    "print(\"Classification Report \")\n",
    "print(classification_report(Test_Y_balanced, y_pred_svc1))\n",
    "print(\"log reg  Accuracy Score ->\",metrics.accuracy_score(Test_Y_balanced, y_pred_svc1))"
   ]
  },
  {
   "cell_type": "code",
   "execution_count": 61,
   "metadata": {},
   "outputs": [
    {
     "name": "stdout",
     "output_type": "stream",
     "text": [
      "[[ 5077   765   337   192   281]\n",
      " [ 1699  1527  1377   682   375]\n",
      " [  626   946  2884  3047   992]\n",
      " [  206   222  1120  7642  6530]\n",
      " [  167    77   245  3255 19729]]\n",
      "\n",
      "\n",
      "Classification Report \n",
      "              precision    recall  f1-score   support\n",
      "\n",
      "           1       0.65      0.76      0.70      6652\n",
      "           2       0.43      0.27      0.33      5660\n",
      "           3       0.48      0.34      0.40      8495\n",
      "           4       0.52      0.49      0.50     15720\n",
      "           5       0.71      0.84      0.77     23473\n",
      "\n",
      "    accuracy                           0.61     60000\n",
      "   macro avg       0.56      0.54      0.54     60000\n",
      "weighted avg       0.59      0.61      0.60     60000\n",
      "\n",
      "log reg  Accuracy Score -> 0.6143166666666666\n"
     ]
    }
   ],
   "source": [
    "from sklearn.svm import LinearSVC\n",
    "model = LinearSVC()\n",
    "model.fit(Train_X_Tfidf,Train_Y_balanced)\n",
    "y_pred_svc1 = model.predict(Test_X_Tfidf)\n",
    "print(cm(Test_Y_balanced, y_pred_svc1))\n",
    "print('\\n')\n",
    "print(\"Classification Report \")\n",
    "print(classification_report(Test_Y_balanced, y_pred_svc1))\n",
    "print(\"log reg  Accuracy Score ->\",metrics.accuracy_score(Test_Y_balanced, y_pred_svc1))"
   ]
  },
  {
   "cell_type": "code",
   "execution_count": 54,
   "metadata": {},
   "outputs": [
    {
     "name": "stderr",
     "output_type": "stream",
     "text": [
      "/usr/local/lib/python3.5/dist-packages/sklearn/linear_model/logistic.py:432: FutureWarning: Default solver will be changed to 'lbfgs' in 0.22. Specify a solver to silence this warning.\n",
      "  FutureWarning)\n",
      "/usr/local/lib/python3.5/dist-packages/sklearn/linear_model/logistic.py:469: FutureWarning: Default multi_class will be changed to 'auto' in 0.22. Specify the multi_class option to silence this warning.\n",
      "  \"this warning.\", FutureWarning)\n"
     ]
    },
    {
     "name": "stdout",
     "output_type": "stream",
     "text": [
      "[[ 4638  1100   439   224   251]\n",
      " [ 1482  1731  1469   671   307]\n",
      " [  546  1135  3129  2829   856]\n",
      " [  215   302  1484  7704  6015]\n",
      " [  172   100   353  3736 19112]]\n",
      "\n",
      "\n",
      "Classification Report \n",
      "              precision    recall  f1-score   support\n",
      "\n",
      "           1       0.66      0.70      0.68      6652\n",
      "           2       0.40      0.31      0.35      5660\n",
      "           3       0.46      0.37      0.41      8495\n",
      "           4       0.51      0.49      0.50     15720\n",
      "           5       0.72      0.81      0.76     23473\n",
      "\n",
      "    accuracy                           0.61     60000\n",
      "   macro avg       0.55      0.54      0.54     60000\n",
      "weighted avg       0.59      0.61      0.59     60000\n",
      "\n",
      "log reg  Accuracy Score -> 0.6052333333333333\n"
     ]
    }
   ],
   "source": [
    "from sklearn.linear_model import LogisticRegression\n",
    "logreg = LogisticRegression(n_jobs=1, C=1e5)\n",
    "logreg.fit(Train_X_Tfidf,Train_Y_balanced)\n",
    "y_pred = logreg.predict(Test_X_Tfidf)\n",
    "print(cm(Test_Y_balanced, y_pred))\n",
    "print('\\n')\n",
    "print(\"Classification Report \")\n",
    "print(classification_report(Test_Y_balanced, y_pred))\n",
    "print(\"log reg  Accuracy Score ->\",metrics.accuracy_score(Test_Y_balanced, y_pred))"
   ]
  },
  {
   "cell_type": "code",
   "execution_count": 68,
   "metadata": {},
   "outputs": [
    {
     "data": {
      "text/html": [
       "<div>\n",
       "<style scoped>\n",
       "    .dataframe tbody tr th:only-of-type {\n",
       "        vertical-align: middle;\n",
       "    }\n",
       "\n",
       "    .dataframe tbody tr th {\n",
       "        vertical-align: top;\n",
       "    }\n",
       "\n",
       "    .dataframe thead th {\n",
       "        text-align: right;\n",
       "    }\n",
       "</style>\n",
       "<table border=\"1\" class=\"dataframe\">\n",
       "  <thead>\n",
       "    <tr style=\"text-align: right;\">\n",
       "      <th></th>\n",
       "      <th>idf_weights</th>\n",
       "    </tr>\n",
       "  </thead>\n",
       "  <tbody>\n",
       "    <tr>\n",
       "      <td>food</td>\n",
       "      <td>1.870904</td>\n",
       "    </tr>\n",
       "    <tr>\n",
       "      <td>place</td>\n",
       "      <td>1.924126</td>\n",
       "    </tr>\n",
       "    <tr>\n",
       "      <td>good</td>\n",
       "      <td>1.959556</td>\n",
       "    </tr>\n",
       "    <tr>\n",
       "      <td>great</td>\n",
       "      <td>2.082586</td>\n",
       "    </tr>\n",
       "    <tr>\n",
       "      <td>like</td>\n",
       "      <td>2.223008</td>\n",
       "    </tr>\n",
       "    <tr>\n",
       "      <td>...</td>\n",
       "      <td>...</td>\n",
       "    </tr>\n",
       "    <tr>\n",
       "      <td>wait minut</td>\n",
       "      <td>7.212116</td>\n",
       "    </tr>\n",
       "    <tr>\n",
       "      <td>still wait</td>\n",
       "      <td>7.212116</td>\n",
       "    </tr>\n",
       "    <tr>\n",
       "      <td>underwhelm</td>\n",
       "      <td>7.212116</td>\n",
       "    </tr>\n",
       "    <tr>\n",
       "      <td>promptly</td>\n",
       "      <td>7.212116</td>\n",
       "    </tr>\n",
       "    <tr>\n",
       "      <td>lil</td>\n",
       "      <td>7.212116</td>\n",
       "    </tr>\n",
       "  </tbody>\n",
       "</table>\n",
       "<p>4092 rows × 1 columns</p>\n",
       "</div>"
      ],
      "text/plain": [
       "            idf_weights\n",
       "food           1.870904\n",
       "place          1.924126\n",
       "good           1.959556\n",
       "great          2.082586\n",
       "like           2.223008\n",
       "...                 ...\n",
       "wait minut     7.212116\n",
       "still wait     7.212116\n",
       "underwhelm     7.212116\n",
       "promptly       7.212116\n",
       "lil            7.212116\n",
       "\n",
       "[4092 rows x 1 columns]"
      ]
     },
     "execution_count": 68,
     "metadata": {},
     "output_type": "execute_result"
    }
   ],
   "source": [
    "from sklearn.feature_extraction.text import CountVectorizer\n",
    "vec_transformed = CountVectorizer(min_df=400, max_df=150.0, lowercase=True,ngram_range=(1, 4), analyzer='word')\n",
    "data = vec_transformed.fit_transform(data_com_buisness['text_1'])\n",
    "\n",
    "from sklearn.feature_extraction.text import TfidfTransformer\n",
    "tfidf_transformer=TfidfTransformer(smooth_idf=True,use_idf=True)\n",
    "tfidf_transformer.fit(data)\n",
    "\n",
    "df_idf = pd.DataFrame(tfidf_transformer.idf_, index=vec_transformed.get_feature_names(),columns=[\"idf_weights\"])\n",
    " \n",
    "# sort ascending\n",
    "df_idf.sort_values(by=['idf_weights'])"
   ]
  },
  {
   "cell_type": "code",
   "execution_count": 69,
   "metadata": {},
   "outputs": [],
   "source": [
    "count_vector=vec_transformed.transform(data_com_buisness['text_1'])\n",
    " \n",
    "# tf-idf scores\n",
    "tf_idf_vector=tfidf_transformer.transform(count_vector)"
   ]
  },
  {
   "cell_type": "code",
   "execution_count": 70,
   "metadata": {},
   "outputs": [],
   "source": [
    "# count matrix\n",
    "count_vector=vec_transformed.transform(Train_X_balanced)\n",
    " \n",
    "# tf-idf scores\n",
    "Train_X_Tfidf=tfidf_transformer.transform(count_vector)\n",
    "\n",
    "# count matrix\n",
    "count_vector=vec_transformed.transform(Test_X_balanced)\n",
    " \n",
    "# tf-idf scores\n",
    "Test_X_Tfidf=tfidf_transformer.transform(count_vector)"
   ]
  },
  {
   "cell_type": "code",
   "execution_count": 71,
   "metadata": {},
   "outputs": [
    {
     "name": "stdout",
     "output_type": "stream",
     "text": [
      "[[ 5077   765   338   192   280]\n",
      " [ 1700  1527  1377   681   375]\n",
      " [  625   946  2882  3049   993]\n",
      " [  206   221  1120  7644  6529]\n",
      " [  167    76   246  3256 19728]]\n",
      "\n",
      "\n",
      "Classification Report \n",
      "              precision    recall  f1-score   support\n",
      "\n",
      "           1       0.65      0.76      0.70      6652\n",
      "           2       0.43      0.27      0.33      5660\n",
      "           3       0.48      0.34      0.40      8495\n",
      "           4       0.52      0.49      0.50     15720\n",
      "           5       0.71      0.84      0.77     23473\n",
      "\n",
      "    accuracy                           0.61     60000\n",
      "   macro avg       0.56      0.54      0.54     60000\n",
      "weighted avg       0.59      0.61      0.60     60000\n",
      "\n",
      "log reg  Accuracy Score -> 0.6143\n"
     ]
    }
   ],
   "source": [
    "from sklearn.svm import LinearSVC\n",
    "model = LinearSVC()\n",
    "model.fit(Train_X_Tfidf,Train_Y_balanced)\n",
    "y_pred_svc1 = model.predict(Test_X_Tfidf)\n",
    "print(cm(Test_Y_balanced, y_pred_svc1))\n",
    "print('\\n')\n",
    "print(\"Classification Report \")\n",
    "print(classification_report(Test_Y_balanced, y_pred_svc1))\n",
    "print(\"log reg  Accuracy Score ->\",metrics.accuracy_score(Test_Y_balanced, y_pred_svc1))"
   ]
  },
  {
   "cell_type": "code",
   "execution_count": 72,
   "metadata": {},
   "outputs": [
    {
     "name": "stderr",
     "output_type": "stream",
     "text": [
      "/usr/local/lib/python3.5/dist-packages/sklearn/linear_model/logistic.py:432: FutureWarning: Default solver will be changed to 'lbfgs' in 0.22. Specify a solver to silence this warning.\n",
      "  FutureWarning)\n",
      "/usr/local/lib/python3.5/dist-packages/sklearn/linear_model/logistic.py:469: FutureWarning: Default multi_class will be changed to 'auto' in 0.22. Specify the multi_class option to silence this warning.\n",
      "  \"this warning.\", FutureWarning)\n"
     ]
    },
    {
     "name": "stdout",
     "output_type": "stream",
     "text": [
      "[[ 4866   909   390   215   272]\n",
      " [ 1545  1653  1471   649   342]\n",
      " [  544  1014  3064  2986   887]\n",
      " [  183   240  1284  7803  6210]\n",
      " [  159    78   294  3517 19425]]\n",
      "\n",
      "\n",
      "Classification Report \n",
      "              precision    recall  f1-score   support\n",
      "\n",
      "           1       0.67      0.73      0.70      6652\n",
      "           2       0.42      0.29      0.35      5660\n",
      "           3       0.47      0.36      0.41      8495\n",
      "           4       0.51      0.50      0.51     15720\n",
      "           5       0.72      0.83      0.77     23473\n",
      "\n",
      "    accuracy                           0.61     60000\n",
      "   macro avg       0.56      0.54      0.55     60000\n",
      "weighted avg       0.60      0.61      0.60     60000\n",
      "\n",
      "log reg  Accuracy Score -> 0.6135166666666667\n"
     ]
    }
   ],
   "source": [
    "from sklearn.linear_model import LogisticRegression\n",
    "logreg = LogisticRegression(n_jobs=1, C=1e5)\n",
    "logreg.fit(Train_X_Tfidf,Train_Y_balanced)\n",
    "y_pred = logreg.predict(Test_X_Tfidf)\n",
    "print(cm(Test_Y_balanced, y_pred))\n",
    "print('\\n')\n",
    "print(\"Classification Report \")\n",
    "print(classification_report(Test_Y_balanced, y_pred))\n",
    "print(\"log reg  Accuracy Score ->\",metrics.accuracy_score(Test_Y_balanced, y_pred))"
   ]
  },
  {
   "cell_type": "code",
   "execution_count": 74,
   "metadata": {},
   "outputs": [
    {
     "name": "stdout",
     "output_type": "stream",
     "text": [
      "[[ 3517   943   520   866   806]\n",
      " [ 1157  1117  1113  1424   849]\n",
      " [  605  1108  1900  3330  1552]\n",
      " [  404   732  1583  6328  6673]\n",
      " [  437   500   779  4114 17643]]\n",
      "\n",
      "\n",
      "Classification Report \n",
      "              precision    recall  f1-score   support\n",
      "\n",
      "           1       0.57      0.53      0.55      6652\n",
      "           2       0.25      0.20      0.22      5660\n",
      "           3       0.32      0.22      0.26      8495\n",
      "           4       0.39      0.40      0.40     15720\n",
      "           5       0.64      0.75      0.69     23473\n",
      "\n",
      "    accuracy                           0.51     60000\n",
      "   macro avg       0.44      0.42      0.43     60000\n",
      "weighted avg       0.49      0.51      0.49     60000\n",
      "\n",
      "grad Accuracy Score -> 0.5084166666666666\n"
     ]
    }
   ],
   "source": [
    "import pandas as pd\n",
    "from sklearn.preprocessing import MinMaxScaler\n",
    "from sklearn.model_selection import train_test_split\n",
    "from sklearn.metrics import classification_report, confusion_matrix\n",
    "from sklearn.ensemble import GradientBoostingClassifier\n",
    "\n",
    "gb_clf = GradientBoostingClassifier(n_estimators=20, learning_rate=1.0, max_features=900, max_depth=150, random_state=0)\n",
    "gb_clf.fit(Train_X_Tfidf,Train_Y_balanced)\n",
    "\n",
    "y_pred = gb_clf.predict(Test_X_Tfidf)\n",
    "print(cm(Test_Y_balanced, y_pred))\n",
    "print('\\n')\n",
    "print(\"Classification Report \")\n",
    "print(classification_report(Test_Y_balanced, y_pred))\n",
    "print(\"grad Accuracy Score ->\",metrics.accuracy_score(Test_Y_balanced, y_pred))\n"
   ]
  },
  {
   "cell_type": "code",
   "execution_count": null,
   "metadata": {},
   "outputs": [],
   "source": []
  }
 ],
 "metadata": {
  "kernelspec": {
   "display_name": "Python 3",
   "language": "python",
   "name": "python3"
  },
  "language_info": {
   "codemirror_mode": {
    "name": "ipython",
    "version": 3
   },
   "file_extension": ".py",
   "mimetype": "text/x-python",
   "name": "python",
   "nbconvert_exporter": "python",
   "pygments_lexer": "ipython3",
   "version": "3.5.3"
  }
 },
 "nbformat": 4,
 "nbformat_minor": 2
}
