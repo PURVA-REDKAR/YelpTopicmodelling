{
 "cells": [
  {
   "cell_type": "code",
   "execution_count": 1,
   "metadata": {},
   "outputs": [],
   "source": [
    "import pandas as pd\n",
    "import matplotlib.pyplot as plt\n",
    "import seaborn as sns\n",
    "%matplotlib inline\n",
    "from io import BytesIO\n",
    "\n",
    "from google.cloud import storage\n",
    "\n",
    "storage_client = storage.Client()\n",
    "bucket = storage_client.get_bucket('capstone_p')\n",
    "blob = bucket.blob('yelp_business_merged_preprocessed.csv')\n",
    "path = \"gs://capstone_p/yelp_business_merged_preprocessed.csv\""
   ]
  },
  {
   "cell_type": "code",
   "execution_count": 2,
   "metadata": {},
   "outputs": [],
   "source": [
    "import pandas as pd\n",
    "import numpy as np\n",
    "from sklearn.svm import LinearSVC\n",
    "from nltk.tokenize import word_tokenize\n",
    "from nltk import pos_tag\n",
    "from nltk.corpus import stopwords\n",
    "from nltk.stem import WordNetLemmatizer\n",
    "from sklearn.preprocessing import LabelEncoder\n",
    "from collections import defaultdict\n",
    "from nltk.corpus import wordnet as wn\n",
    "from sklearn.feature_extraction.text import TfidfVectorizer\n",
    "from sklearn import model_selection, naive_bayes, svm\n",
    "from sklearn.metrics import accuracy_score\n",
    "import matplotlib.pyplot as plt\n",
    "import itertools\n",
    "from sklearn.metrics import confusion_matrix as cm,classification_report\n",
    "import sklearn.metrics as metrics\n",
    "from sklearn.feature_extraction.text import CountVectorizer"
   ]
  },
  {
   "cell_type": "code",
   "execution_count": 3,
   "metadata": {},
   "outputs": [],
   "source": [
    "np.random.seed(500)\n",
    "data_com_buisness = pd.read_csv(path,encoding='utf-8')\n"
   ]
  },
  {
   "cell_type": "code",
   "execution_count": 4,
   "metadata": {},
   "outputs": [],
   "source": [
    "import nltk\n",
    "\n",
    "wpt = nltk.WordPunctTokenizer()\n",
    "\n",
    "def preprocess(sent):\n",
    "  text = wpt.tokenize(sent)\n",
    "  text_tagged = nltk.pos_tag(text)\n",
    "  new_text = []\n",
    "  for word in text_tagged:\n",
    "      new_text.append(word[0] + \"/\" + word[1])\n",
    "    \n",
    "  doc = ' '.join(new_text)\n",
    "  return doc"
   ]
  },
  {
   "cell_type": "code",
   "execution_count": null,
   "metadata": {},
   "outputs": [],
   "source": []
  },
  {
   "cell_type": "code",
   "execution_count": 6,
   "metadata": {},
   "outputs": [],
   "source": [
    "data_com_buisness = data_com_buisness.head(200000)"
   ]
  },
  {
   "cell_type": "code",
   "execution_count": 7,
   "metadata": {},
   "outputs": [],
   "source": [
    "sent = data_com_buisness['text_1'].apply(preprocess)"
   ]
  },
  {
   "cell_type": "code",
   "execution_count": 8,
   "metadata": {},
   "outputs": [
    {
     "data": {
      "text/plain": [
       "20    go/VB year/NN still/RB favorit/JJ place/NN ./....\n",
       "21    came/VBD brother/RB atmospher/JJ nice/NN ./. g...\n",
       "22    sit/NN want/VBP wait/NN leav/NN draft/NN revie...\n",
       "23    eat/NN couch/JJ loung/NN comfi/NN recliners/NN...\n",
       "24    came/VBD friday/JJ night/NN watch/NN indian/JJ...\n",
       "Name: text_1, dtype: object"
      ]
     },
     "execution_count": 8,
     "metadata": {},
     "output_type": "execute_result"
    }
   ],
   "source": [
    "sent.iloc[20:25]"
   ]
  },
  {
   "cell_type": "code",
   "execution_count": 38,
   "metadata": {},
   "outputs": [
    {
     "data": {
      "text/html": [
       "<div>\n",
       "<style scoped>\n",
       "    .dataframe tbody tr th:only-of-type {\n",
       "        vertical-align: middle;\n",
       "    }\n",
       "\n",
       "    .dataframe tbody tr th {\n",
       "        vertical-align: top;\n",
       "    }\n",
       "\n",
       "    .dataframe thead th {\n",
       "        text-align: right;\n",
       "    }\n",
       "</style>\n",
       "<table border=\"1\" class=\"dataframe\">\n",
       "  <thead>\n",
       "    <tr style=\"text-align: right;\">\n",
       "      <th></th>\n",
       "      <th>idf_weights</th>\n",
       "    </tr>\n",
       "  </thead>\n",
       "  <tbody>\n",
       "    <tr>\n",
       "      <td></td>\n",
       "      <td>1.0</td>\n",
       "    </tr>\n",
       "  </tbody>\n",
       "</table>\n",
       "</div>"
      ],
      "text/plain": [
       "  idf_weights\n",
       "          1.0"
      ]
     },
     "execution_count": 38,
     "metadata": {},
     "output_type": "execute_result"
    }
   ],
   "source": [
    "from sklearn.feature_extraction.text import CountVectorizer\n",
    "vec_transformed = CountVectorizer(analyzer='word',token_pattern='(?u)')\n",
    "data = vec_transformed.fit_transform(sent)\n",
    "\n",
    "from sklearn.feature_extraction.text import TfidfTransformer\n",
    "tfidf_transformer=TfidfTransformer(smooth_idf=True,use_idf=True)\n",
    "tfidf_transformer.fit(data)\n",
    "\n",
    "df_idf = pd.DataFrame(tfidf_transformer.idf_, index=vec_transformed.get_feature_names(),columns=[\"idf_weights\"])\n",
    " \n",
    "# sort ascending\n",
    "df_idf.sort_values(by=['idf_weights'])"
   ]
  },
  {
   "cell_type": "code",
   "execution_count": 14,
   "metadata": {},
   "outputs": [
    {
     "data": {
      "text/html": [
       "<div>\n",
       "<style scoped>\n",
       "    .dataframe tbody tr th:only-of-type {\n",
       "        vertical-align: middle;\n",
       "    }\n",
       "\n",
       "    .dataframe tbody tr th {\n",
       "        vertical-align: top;\n",
       "    }\n",
       "\n",
       "    .dataframe thead th {\n",
       "        text-align: right;\n",
       "    }\n",
       "</style>\n",
       "<table border=\"1\" class=\"dataframe\">\n",
       "  <thead>\n",
       "    <tr style=\"text-align: right;\">\n",
       "      <th></th>\n",
       "      <th>tfidf</th>\n",
       "    </tr>\n",
       "  </thead>\n",
       "  <tbody>\n",
       "    <tr>\n",
       "      <td>brick</td>\n",
       "      <td>0.366105</td>\n",
       "    </tr>\n",
       "    <tr>\n",
       "      <td>alway</td>\n",
       "      <td>0.331495</td>\n",
       "    </tr>\n",
       "    <tr>\n",
       "      <td>polit</td>\n",
       "      <td>0.311215</td>\n",
       "    </tr>\n",
       "    <tr>\n",
       "      <td>beautiful</td>\n",
       "      <td>0.304133</td>\n",
       "    </tr>\n",
       "    <tr>\n",
       "      <td>summer</td>\n",
       "      <td>0.291106</td>\n",
       "    </tr>\n",
       "    <tr>\n",
       "      <td>...</td>\n",
       "      <td>...</td>\n",
       "    </tr>\n",
       "    <tr>\n",
       "      <td>fall</td>\n",
       "      <td>0.000000</td>\n",
       "    </tr>\n",
       "    <tr>\n",
       "      <td>fame</td>\n",
       "      <td>0.000000</td>\n",
       "    </tr>\n",
       "    <tr>\n",
       "      <td>famili</td>\n",
       "      <td>0.000000</td>\n",
       "    </tr>\n",
       "    <tr>\n",
       "      <td>familiar</td>\n",
       "      <td>0.000000</td>\n",
       "    </tr>\n",
       "    <tr>\n",
       "      <td>zucchini</td>\n",
       "      <td>0.000000</td>\n",
       "    </tr>\n",
       "  </tbody>\n",
       "</table>\n",
       "<p>4393 rows × 1 columns</p>\n",
       "</div>"
      ],
      "text/plain": [
       "              tfidf\n",
       "brick      0.366105\n",
       "alway      0.331495\n",
       "polit      0.311215\n",
       "beautiful  0.304133\n",
       "summer     0.291106\n",
       "...             ...\n",
       "fall       0.000000\n",
       "fame       0.000000\n",
       "famili     0.000000\n",
       "familiar   0.000000\n",
       "zucchini   0.000000\n",
       "\n",
       "[4393 rows x 1 columns]"
      ]
     },
     "execution_count": 14,
     "metadata": {},
     "output_type": "execute_result"
    }
   ],
   "source": [
    "# count matrix\n",
    "count_vector=vec_transformed.transform(data_com_buisness['text_1'])\n",
    " \n",
    "# tf-idf scores\n",
    "tf_idf_vector=tfidf_transformer.transform(count_vector)\n",
    "\n",
    "tf_idf_vector.shape\n",
    "feature_names = vec_transformed.get_feature_names()\n",
    " \n",
    "#get tfidf vector for first document\n",
    "first_document_vector=tf_idf_vector[0]\n",
    " \n",
    "#print the scores\n",
    "df = pd.DataFrame(first_document_vector.T.todense(), index=feature_names, columns=[\"tfidf\"])\n",
    "df.sort_values(by=[\"tfidf\"],ascending=False)\n"
   ]
  },
  {
   "cell_type": "code",
   "execution_count": 15,
   "metadata": {},
   "outputs": [],
   "source": [
    "Train_X, Test_X, Train_Y, Test_Y = model_selection.train_test_split(sent,data_com_buisness['stars_y'],test_size=0.3)"
   ]
  },
  {
   "cell_type": "code",
   "execution_count": 16,
   "metadata": {},
   "outputs": [],
   "source": [
    "# count matrix\n",
    "count_vector=vec_transformed.transform(Train_X)\n",
    " \n",
    "# tf-idf scores\n",
    "Train_X_Tfidf=tfidf_transformer.transform(count_vector)\n",
    "\n",
    "# count matrix\n",
    "count_vector=vec_transformed.transform(Test_X)\n",
    " \n",
    "# tf-idf scores\n",
    "Test_X_Tfidf=tfidf_transformer.transform(count_vector)"
   ]
  },
  {
   "cell_type": "code",
   "execution_count": 18,
   "metadata": {},
   "outputs": [
    {
     "name": "stdout",
     "output_type": "stream",
     "text": [
      "[[ 4293   347   281   646   974]\n",
      " [ 1555   281   804  1732  1326]\n",
      " [  764    73  1052  3961  2494]\n",
      " [  310     8   344  5501  9735]\n",
      " [  296     0    42  1909 21272]]\n",
      "\n",
      "\n",
      "Classification Report \n",
      "              precision    recall  f1-score   support\n",
      "\n",
      "           1       0.59      0.66      0.62      6541\n",
      "           2       0.40      0.05      0.09      5698\n",
      "           3       0.42      0.13      0.19      8344\n",
      "           4       0.40      0.35      0.37     15898\n",
      "           5       0.59      0.90      0.72     23519\n",
      "\n",
      "    accuracy                           0.54     60000\n",
      "   macro avg       0.48      0.42      0.40     60000\n",
      "weighted avg       0.50      0.54      0.48     60000\n",
      "\n",
      "Naive Bayes Accuracy Score using count vect -> 0.5399833333333334\n"
     ]
    }
   ],
   "source": [
    "from sklearn.metrics import confusion_matrix as cm,classification_report\n",
    "import sklearn.metrics as metrics\n",
    "Naive = naive_bayes.MultinomialNB()\n",
    "Naive.fit(Train_X_Tfidf,Train_Y)\n",
    "# predict the labels on validation dataset\n",
    "predictions_NB = Naive.predict(Test_X_Tfidf)\n",
    "# Use accuracy_score function to get the accuracy\n",
    "#print(\"Naive Bayes Accuracy Score -> \",accuracy_score(predictions_NB, Test_Y)*100)\n",
    "print(cm(Test_Y, predictions_NB))\n",
    "print('\\n')\n",
    "print(\"Classification Report \")\n",
    "print(classification_report(Test_Y, predictions_NB))\n",
    "print(\"Naive Bayes Accuracy Score using count vect ->\",metrics.accuracy_score(Test_Y, predictions_NB))"
   ]
  },
  {
   "cell_type": "code",
   "execution_count": 20,
   "metadata": {},
   "outputs": [
    {
     "name": "stderr",
     "output_type": "stream",
     "text": [
      "/usr/local/lib/python3.5/dist-packages/sklearn/linear_model/logistic.py:432: FutureWarning: Default solver will be changed to 'lbfgs' in 0.22. Specify a solver to silence this warning.\n",
      "  FutureWarning)\n",
      "/usr/local/lib/python3.5/dist-packages/sklearn/linear_model/logistic.py:469: FutureWarning: Default multi_class will be changed to 'auto' in 0.22. Specify the multi_class option to silence this warning.\n",
      "  \"this warning.\", FutureWarning)\n"
     ]
    },
    {
     "name": "stdout",
     "output_type": "stream",
     "text": [
      "[[ 4712   900   411   218   300]\n",
      " [ 1608  1566  1416   721   387]\n",
      " [  538   946  2925  3006   929]\n",
      " [  183   210  1290  7754  6461]\n",
      " [  192    70   271  3611 19375]]\n",
      "\n",
      "\n",
      "Classification Report \n",
      "              precision    recall  f1-score   support\n",
      "\n",
      "           1       0.65      0.72      0.68      6541\n",
      "           2       0.42      0.27      0.33      5698\n",
      "           3       0.46      0.35      0.40      8344\n",
      "           4       0.51      0.49      0.50     15898\n",
      "           5       0.71      0.82      0.76     23519\n",
      "\n",
      "    accuracy                           0.61     60000\n",
      "   macro avg       0.55      0.53      0.53     60000\n",
      "weighted avg       0.59      0.61      0.59     60000\n",
      "\n",
      "log reg  Accuracy Score -> 0.6055333333333334\n"
     ]
    }
   ],
   "source": [
    "from sklearn.linear_model import LogisticRegression\n",
    "logreg = LogisticRegression(n_jobs=1, C=1e5)\n",
    "logreg.fit(Train_X_Tfidf, Train_Y)\n",
    "y_pred = logreg.predict(Test_X_Tfidf)\n",
    "print(cm(Test_Y, y_pred))\n",
    "print('\\n')\n",
    "print(\"Classification Report \")\n",
    "print(classification_report(Test_Y, y_pred))\n",
    "print(\"log reg  Accuracy Score ->\",metrics.accuracy_score(Test_Y, y_pred))"
   ]
  },
  {
   "cell_type": "code",
   "execution_count": null,
   "metadata": {},
   "outputs": [],
   "source": [
    "import matplotlib.pyplot as plt\n",
    "def plot_confusion_matrix(cm, classes, normalize=False, title='Confusion matrix', cmap=plt.cm.Blues):\n",
    "    if normalize:\n",
    "        cm = cm.astype('float') / cm.sum(axis=1)[:, np.newaxis]\n",
    "\n",
    "    plt.figure(figsize=(8, 8))\n",
    "    plt.imshow(cm, interpolation='nearest', cmap=cmap)\n",
    "    plt.title(title)\n",
    "    plt.colorbar()\n",
    "    tick_marks = np.arange(len(classes))\n",
    "    plt.xticks(tick_marks, classes, rotation=45)\n",
    "    plt.yticks(tick_marks, classes)\n",
    "\n",
    "    fmt = '.2f' if normalize else 'd'\n",
    "    thresh = cm.max() / 2.\n",
    "    for i, j in itertools.product(range(cm.shape[0]), range(cm.shape[1])):\n",
    "        plt.text(j, i, format(cm[i, j], fmt),\n",
    "                 horizontalalignment=\"center\",\n",
    "                 color=\"white\" if cm[i, j] > thresh else \"black\")\n",
    "\n",
    "    plt.tight_layout()\n",
    "    plt.ylabel('True label')\n",
    "    plt.xlabel('Predicted label')"
   ]
  },
  {
   "cell_type": "code",
   "execution_count": null,
   "metadata": {},
   "outputs": [],
   "source": [
    "plot_confusion_matrix(cm(Test_Y, y_pred), classes=['1', '2','3','4','5'], title='Confusion matrix')"
   ]
  },
  {
   "cell_type": "code",
   "execution_count": 29,
   "metadata": {},
   "outputs": [
    {
     "name": "stdout",
     "output_type": "stream",
     "text": [
      "[[ 4970   694   353   223   301]\n",
      " [ 1778  1423  1312   760   425]\n",
      " [  635   824  2714  3153  1018]\n",
      " [  220   176  1057  7639  6806]\n",
      " [  190    58   222  3263 19786]]\n",
      "\n",
      "\n",
      "Classification Report \n",
      "              precision    recall  f1-score   support\n",
      "\n",
      "           1       0.64      0.76      0.69      6541\n",
      "           2       0.45      0.25      0.32      5698\n",
      "           3       0.48      0.33      0.39      8344\n",
      "           4       0.51      0.48      0.49     15898\n",
      "           5       0.70      0.84      0.76     23519\n",
      "\n",
      "    accuracy                           0.61     60000\n",
      "   macro avg       0.55      0.53      0.53     60000\n",
      "weighted avg       0.59      0.61      0.59     60000\n",
      "\n",
      "linear SVC Accuracy Score  Count vect-> 0.6088666666666667\n"
     ]
    }
   ],
   "source": [
    "from sklearn.svm import LinearSVC\n",
    "model = LinearSVC()\n",
    "model.fit(Train_X_Tfidf, Train_Y)\n",
    "y_pred_svc = model.predict(Test_X_Tfidf)\n",
    "print(cm(Test_Y, y_pred_svc))\n",
    "print('\\n')\n",
    "print(\"Classification Report \")\n",
    "print(classification_report(Test_Y, y_pred_svc))\n",
    "print(\"linear SVC Accuracy Score  Count vect->\",metrics.accuracy_score(Test_Y, y_pred_svc))"
   ]
  },
  {
   "cell_type": "code",
   "execution_count": 30,
   "metadata": {},
   "outputs": [
    {
     "data": {
      "text/html": [
       "<div>\n",
       "<style scoped>\n",
       "    .dataframe tbody tr th:only-of-type {\n",
       "        vertical-align: middle;\n",
       "    }\n",
       "\n",
       "    .dataframe tbody tr th {\n",
       "        vertical-align: top;\n",
       "    }\n",
       "\n",
       "    .dataframe thead th {\n",
       "        text-align: right;\n",
       "    }\n",
       "</style>\n",
       "<table border=\"1\" class=\"dataframe\">\n",
       "  <thead>\n",
       "    <tr style=\"text-align: right;\">\n",
       "      <th></th>\n",
       "      <th>idf_weights</th>\n",
       "    </tr>\n",
       "  </thead>\n",
       "  <tbody>\n",
       "    <tr>\n",
       "      <td>nn</td>\n",
       "      <td>1.000105</td>\n",
       "    </tr>\n",
       "    <tr>\n",
       "      <td>jj</td>\n",
       "      <td>1.005701</td>\n",
       "    </tr>\n",
       "    <tr>\n",
       "      <td>rb</td>\n",
       "      <td>1.201473</td>\n",
       "    </tr>\n",
       "    <tr>\n",
       "      <td>vb</td>\n",
       "      <td>1.211473</td>\n",
       "    </tr>\n",
       "    <tr>\n",
       "      <td>nns</td>\n",
       "      <td>1.321996</td>\n",
       "    </tr>\n",
       "    <tr>\n",
       "      <td>...</td>\n",
       "      <td>...</td>\n",
       "    </tr>\n",
       "    <tr>\n",
       "      <td>cupcakes</td>\n",
       "      <td>7.902773</td>\n",
       "    </tr>\n",
       "    <tr>\n",
       "      <td>cleaning nn</td>\n",
       "      <td>7.902773</td>\n",
       "    </tr>\n",
       "    <tr>\n",
       "      <td>mouss nn</td>\n",
       "      <td>7.902773</td>\n",
       "    </tr>\n",
       "    <tr>\n",
       "      <td>girl nns</td>\n",
       "      <td>7.902773</td>\n",
       "    </tr>\n",
       "    <tr>\n",
       "      <td>nn anymor</td>\n",
       "      <td>7.902773</td>\n",
       "    </tr>\n",
       "  </tbody>\n",
       "</table>\n",
       "<p>17503 rows × 1 columns</p>\n",
       "</div>"
      ],
      "text/plain": [
       "             idf_weights\n",
       "nn              1.000105\n",
       "jj              1.005701\n",
       "rb              1.201473\n",
       "vb              1.211473\n",
       "nns             1.321996\n",
       "...                  ...\n",
       "cupcakes        7.902773\n",
       "cleaning nn     7.902773\n",
       "mouss nn        7.902773\n",
       "girl nns        7.902773\n",
       "nn anymor       7.902773\n",
       "\n",
       "[17503 rows x 1 columns]"
      ]
     },
     "execution_count": 30,
     "metadata": {},
     "output_type": "execute_result"
    }
   ],
   "source": [
    "from sklearn.feature_extraction.text import CountVectorizer\n",
    "vec_transformed = CountVectorizer(min_df=200, max_df=150.0, lowercase=True,analyzer='word',ngram_range=(1, 2))\n",
    "data = vec_transformed.fit_transform(sent)\n",
    "\n",
    "from sklearn.feature_extraction.text import TfidfTransformer\n",
    "tfidf_transformer=TfidfTransformer(smooth_idf=True,use_idf=True)\n",
    "tfidf_transformer.fit(data)\n",
    "\n",
    "df_idf = pd.DataFrame(tfidf_transformer.idf_, index=vec_transformed.get_feature_names(),columns=[\"idf_weights\"])\n",
    " \n",
    "# sort ascending\n",
    "df_idf.sort_values(by=['idf_weights'])"
   ]
  },
  {
   "cell_type": "code",
   "execution_count": 31,
   "metadata": {},
   "outputs": [
    {
     "data": {
      "text/html": [
       "<div>\n",
       "<style scoped>\n",
       "    .dataframe tbody tr th:only-of-type {\n",
       "        vertical-align: middle;\n",
       "    }\n",
       "\n",
       "    .dataframe tbody tr th {\n",
       "        vertical-align: top;\n",
       "    }\n",
       "\n",
       "    .dataframe thead th {\n",
       "        text-align: right;\n",
       "    }\n",
       "</style>\n",
       "<table border=\"1\" class=\"dataframe\">\n",
       "  <thead>\n",
       "    <tr style=\"text-align: right;\">\n",
       "      <th></th>\n",
       "      <th>tfidf</th>\n",
       "    </tr>\n",
       "  </thead>\n",
       "  <tbody>\n",
       "    <tr>\n",
       "      <td>brick</td>\n",
       "      <td>0.366105</td>\n",
       "    </tr>\n",
       "    <tr>\n",
       "      <td>alway</td>\n",
       "      <td>0.331495</td>\n",
       "    </tr>\n",
       "    <tr>\n",
       "      <td>polit</td>\n",
       "      <td>0.311215</td>\n",
       "    </tr>\n",
       "    <tr>\n",
       "      <td>beautiful</td>\n",
       "      <td>0.304133</td>\n",
       "    </tr>\n",
       "    <tr>\n",
       "      <td>summer</td>\n",
       "      <td>0.291106</td>\n",
       "    </tr>\n",
       "    <tr>\n",
       "      <td>...</td>\n",
       "      <td>...</td>\n",
       "    </tr>\n",
       "    <tr>\n",
       "      <td>jj friends</td>\n",
       "      <td>0.000000</td>\n",
       "    </tr>\n",
       "    <tr>\n",
       "      <td>jj fries</td>\n",
       "      <td>0.000000</td>\n",
       "    </tr>\n",
       "    <tr>\n",
       "      <td>jj front</td>\n",
       "      <td>0.000000</td>\n",
       "    </tr>\n",
       "    <tr>\n",
       "      <td>jj frozen</td>\n",
       "      <td>0.000000</td>\n",
       "    </tr>\n",
       "    <tr>\n",
       "      <td>zucchini nn</td>\n",
       "      <td>0.000000</td>\n",
       "    </tr>\n",
       "  </tbody>\n",
       "</table>\n",
       "<p>17503 rows × 1 columns</p>\n",
       "</div>"
      ],
      "text/plain": [
       "                tfidf\n",
       "brick        0.366105\n",
       "alway        0.331495\n",
       "polit        0.311215\n",
       "beautiful    0.304133\n",
       "summer       0.291106\n",
       "...               ...\n",
       "jj friends   0.000000\n",
       "jj fries     0.000000\n",
       "jj front     0.000000\n",
       "jj frozen    0.000000\n",
       "zucchini nn  0.000000\n",
       "\n",
       "[17503 rows x 1 columns]"
      ]
     },
     "execution_count": 31,
     "metadata": {},
     "output_type": "execute_result"
    }
   ],
   "source": [
    "# count matrix\n",
    "count_vector=vec_transformed.transform(data_com_buisness['text_1'])\n",
    " \n",
    "# tf-idf scores\n",
    "tf_idf_vector=tfidf_transformer.transform(count_vector)\n",
    "\n",
    "tf_idf_vector.shape\n",
    "feature_names = vec_transformed.get_feature_names()\n",
    " \n",
    "#get tfidf vector for first document\n",
    "first_document_vector=tf_idf_vector[0]\n",
    " \n",
    "#print the scores\n",
    "df = pd.DataFrame(first_document_vector.T.todense(), index=feature_names, columns=[\"tfidf\"])\n",
    "df.sort_values(by=[\"tfidf\"],ascending=False)\n"
   ]
  },
  {
   "cell_type": "code",
   "execution_count": 62,
   "metadata": {},
   "outputs": [],
   "source": []
  },
  {
   "cell_type": "code",
   "execution_count": 32,
   "metadata": {},
   "outputs": [],
   "source": [
    "# count matrix\n",
    "count_vector=vec_transformed.transform(Train_X)\n",
    " \n",
    "# tf-idf scores\n",
    "Train_X_Tfidf=tfidf_transformer.transform(count_vector)\n",
    "\n",
    "# count matrix\n",
    "count_vector=vec_transformed.transform(Test_X)\n",
    " \n",
    "# tf-idf scores\n",
    "Test_X_Tfidf=tfidf_transformer.transform(count_vector)"
   ]
  },
  {
   "cell_type": "code",
   "execution_count": 33,
   "metadata": {},
   "outputs": [
    {
     "name": "stdout",
     "output_type": "stream",
     "text": [
      "[[ 4737   911   376   219   298]\n",
      " [ 1678  1551  1386   704   379]\n",
      " [  627  1005  2896  2822   994]\n",
      " [  212   268  1363  7423  6632]\n",
      " [  177   109   284  3656 19293]]\n",
      "\n",
      "\n",
      "Classification Report \n",
      "              precision    recall  f1-score   support\n",
      "\n",
      "           1       0.64      0.72      0.68      6541\n",
      "           2       0.40      0.27      0.33      5698\n",
      "           3       0.46      0.35      0.40      8344\n",
      "           4       0.50      0.47      0.48     15898\n",
      "           5       0.70      0.82      0.75     23519\n",
      "\n",
      "    accuracy                           0.60     60000\n",
      "   macro avg       0.54      0.53      0.53     60000\n",
      "weighted avg       0.58      0.60      0.58     60000\n",
      "\n",
      "linear SVC Accuracy Score  Count vect-> 0.5983333333333334\n"
     ]
    }
   ],
   "source": [
    "from sklearn.svm import LinearSVC\n",
    "model = LinearSVC()\n",
    "model.fit(Train_X_Tfidf, Train_Y)\n",
    "y_pred_svc = model.predict(Test_X_Tfidf)\n",
    "print(cm(Test_Y, y_pred_svc))\n",
    "print('\\n')\n",
    "print(\"Classification Report \")\n",
    "print(classification_report(Test_Y, y_pred_svc))\n",
    "print(\"linear SVC Accuracy Score  Count vect->\",metrics.accuracy_score(Test_Y, y_pred_svc))"
   ]
  },
  {
   "cell_type": "code",
   "execution_count": 34,
   "metadata": {},
   "outputs": [
    {
     "name": "stderr",
     "output_type": "stream",
     "text": [
      "/usr/local/lib/python3.5/dist-packages/sklearn/linear_model/logistic.py:432: FutureWarning: Default solver will be changed to 'lbfgs' in 0.22. Specify a solver to silence this warning.\n",
      "  FutureWarning)\n",
      "/usr/local/lib/python3.5/dist-packages/sklearn/linear_model/logistic.py:469: FutureWarning: Default multi_class will be changed to 'auto' in 0.22. Specify the multi_class option to silence this warning.\n",
      "  \"this warning.\", FutureWarning)\n",
      "/usr/local/lib/python3.5/dist-packages/sklearn/svm/base.py:929: ConvergenceWarning: Liblinear failed to converge, increase the number of iterations.\n",
      "  \"the number of iterations.\", ConvergenceWarning)\n"
     ]
    },
    {
     "name": "stdout",
     "output_type": "stream",
     "text": [
      "[[ 4030  1245   581   326   359]\n",
      " [ 1513  1676  1414   723   372]\n",
      " [  748  1245  2772  2596   983]\n",
      " [  420   555  1807  7082  6034]\n",
      " [  493   273   549  4220 17984]]\n",
      "\n",
      "\n",
      "Classification Report \n",
      "              precision    recall  f1-score   support\n",
      "\n",
      "           1       0.56      0.62      0.59      6541\n",
      "           2       0.34      0.29      0.31      5698\n",
      "           3       0.39      0.33      0.36      8344\n",
      "           4       0.47      0.45      0.46     15898\n",
      "           5       0.70      0.76      0.73     23519\n",
      "\n",
      "    accuracy                           0.56     60000\n",
      "   macro avg       0.49      0.49      0.49     60000\n",
      "weighted avg       0.55      0.56      0.55     60000\n",
      "\n",
      "log reg  Accuracy Score -> 0.5590666666666667\n"
     ]
    }
   ],
   "source": [
    "from sklearn.linear_model import LogisticRegression\n",
    "logreg = LogisticRegression(n_jobs=1, C=1e5)\n",
    "logreg.fit(Train_X_Tfidf, Train_Y)\n",
    "y_pred = logreg.predict(Test_X_Tfidf)\n",
    "print(cm(Test_Y, y_pred))\n",
    "print('\\n')\n",
    "print(\"Classification Report \")\n",
    "print(classification_report(Test_Y, y_pred))\n",
    "print(\"log reg  Accuracy Score ->\",metrics.accuracy_score(Test_Y, y_pred))"
   ]
  },
  {
   "cell_type": "code",
   "execution_count": null,
   "metadata": {},
   "outputs": [],
   "source": []
  }
 ],
 "metadata": {
  "kernelspec": {
   "display_name": "Python 3",
   "language": "python",
   "name": "python3"
  }
 },
 "nbformat": 4,
 "nbformat_minor": 2
}
