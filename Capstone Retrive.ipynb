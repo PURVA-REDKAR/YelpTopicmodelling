{
 "cells": [
  {
   "cell_type": "code",
   "execution_count": 1,
   "metadata": {},
   "outputs": [],
   "source": [
    "import pandas as pd\n",
    "import matplotlib.pyplot as plt\n",
    "import seaborn as sns\n",
    "%matplotlib inline\n",
    "from io import BytesIO\n",
    "\n",
    "from google.cloud import storage\n",
    "\n",
    "storage_client = storage.Client()\n",
    "bucket = storage_client.get_bucket('capstone_p')\n",
    "blob = bucket.blob('yelp_business_merged_preprocessed.csv')\n",
    "path = \"gs://capstone_p/yelp_business_merged_preprocessed.csv\""
   ]
  },
  {
   "cell_type": "code",
   "execution_count": 2,
   "metadata": {},
   "outputs": [],
   "source": [
    "import pandas as pd\n",
    "import numpy as np\n",
    "from sklearn.svm import LinearSVC\n",
    "from nltk.tokenize import word_tokenize\n",
    "from nltk import pos_tag\n",
    "from nltk.corpus import stopwords\n",
    "from nltk.stem import WordNetLemmatizer\n",
    "from sklearn.preprocessing import LabelEncoder\n",
    "from collections import defaultdict\n",
    "from nltk.corpus import wordnet as wn\n",
    "from sklearn.feature_extraction.text import TfidfVectorizer\n",
    "from sklearn import model_selection, naive_bayes, svm\n",
    "from sklearn.metrics import accuracy_score\n",
    "import matplotlib.pyplot as plt\n",
    "import itertools\n",
    "from sklearn.metrics import confusion_matrix as cm,classification_report\n",
    "import sklearn.metrics as metrics\n",
    "from sklearn.feature_extraction.text import CountVectorizer"
   ]
  },
  {
   "cell_type": "code",
   "execution_count": 3,
   "metadata": {},
   "outputs": [],
   "source": [
    "data_com_buisness = pd.read_csv(path,encoding='utf-8')\n",
    "data_com_buisness =data_com_buisness.head(200000)"
   ]
  },
  {
   "cell_type": "code",
   "execution_count": 5,
   "metadata": {},
   "outputs": [],
   "source": [
    "np.random.seed(500)\n",
    "Train_X, Test_X, Train_Y, Test_Y = model_selection.train_test_split(data_com_buisness['text_1'],data_com_buisness['stars_y'],test_size=0.3)"
   ]
  },
  {
   "cell_type": "code",
   "execution_count": 6,
   "metadata": {},
   "outputs": [],
   "source": [
    "Encoder = LabelEncoder()\n",
    "Train_Y = Encoder.fit_transform(Train_Y)\n",
    "Test_Y = Encoder.fit_transform(Test_Y)"
   ]
  },
  {
   "cell_type": "code",
   "execution_count": 6,
   "metadata": {},
   "outputs": [
    {
     "data": {
      "text/plain": [
       "TfidfVectorizer(analyzer='word', binary=False, decode_error='strict',\n",
       "                dtype=<class 'numpy.float64'>, encoding='utf-8',\n",
       "                input='content', lowercase=True, max_df=1.0, max_features=None,\n",
       "                min_df=1, ngram_range=(1, 1), norm='l2', preprocessor=None,\n",
       "                smooth_idf=True, stop_words=None, strip_accents=None,\n",
       "                sublinear_tf=False, token_pattern='(?u)\\\\b\\\\w\\\\w+\\\\b',\n",
       "                tokenizer=None, use_idf=True, vocabulary=None)"
      ]
     },
     "execution_count": 6,
     "metadata": {},
     "output_type": "execute_result"
    }
   ],
   "source": [
    "Tfidf_vect = TfidfVectorizer(max_df=100.0,min_df=200)\n",
    "Tfidf_vect.fit(data_com_buisness['text_1'].values.astype('U'))"
   ]
  },
  {
   "cell_type": "code",
   "execution_count": 8,
   "metadata": {},
   "outputs": [
    {
     "data": {
      "text/plain": [
       "{'emphas': 28781,\n",
       " 'clasico': 18743,\n",
       " 'larvae': 47805,\n",
       " 'smoke': 75948,\n",
       " 'kucinich': 47174,\n",
       " 'comfiest': 19647,\n",
       " 'caotic': 15590,\n",
       " 'neuromancer': 56450,\n",
       " 'clogger': 18997,\n",
       " 'exect': 30451,\n",
       " 'cotija': 21288,\n",
       " 'obes': 57862,\n",
       " 'comparatively': 19830,\n",
       " 'efficiencies': 28124,\n",
       " 'undriken': 86131,\n",
       " 'itttttttttt': 44205,\n",
       " 'suffocate': 79587,\n",
       " 'vela': 87950,\n",
       " 'shakes': 73712,\n",
       " 'gilavalo': 36129,\n",
       " 'boobies': 12653,\n",
       " 'cudos': 22507,\n",
       " 'baconsaf': 9276,\n",
       " 'smore': 75999,\n",
       " '1000th': 162,\n",
       " 'syrupi': 80597,\n",
       " 'imposible': 42428,\n",
       " 'hence': 39780,\n",
       " 'moda': 54172,\n",
       " 'gtr': 37965,\n",
       " 'cream': 21820,\n",
       " 'inplac': 43251,\n",
       " 'dancing': 23154,\n",
       " '59th': 2562,\n",
       " 'celebrti': 16524,\n",
       " 'collecr': 19475,\n",
       " 'seara': 72846,\n",
       " 'looking': 49589,\n",
       " 'tryst': 84778,\n",
       " 'brauerei': 13276,\n",
       " 'legassi': 48300,\n",
       " 'indicates': 42801,\n",
       " 'tankostu': 81111,\n",
       " 'savories': 71993,\n",
       " 'wanderings': 89470,\n",
       " 'grenadin': 37540,\n",
       " 'oringin': 59218,\n",
       " 'seasonig': 72875,\n",
       " 'mingle': 53607,\n",
       " 'manapua': 51064,\n",
       " 'feta': 31958,\n",
       " 'selectively': 73118,\n",
       " 'greulichs': 37557,\n",
       " 'affili': 4688,\n",
       " 'gna': 36545,\n",
       " 'pats': 61182,\n",
       " 'blurring': 12272,\n",
       " 'weightlifting': 89995,\n",
       " 'taster': 81340,\n",
       " 'hipocr': 40230,\n",
       " 'healthly': 39452,\n",
       " 'prettiness': 64806,\n",
       " 'shakespearean': 73717,\n",
       " '10144': 208,\n",
       " 'steep': 78451,\n",
       " 'vn65ptkzd7': 88840,\n",
       " 'crabl': 21609,\n",
       " 'erstrahlen': 29646,\n",
       " 'shima': 74096,\n",
       " 'powerplant': 64284,\n",
       " 'bacteri': 9281,\n",
       " 'differnti': 25104,\n",
       " 'stamps': 78125,\n",
       " 'appeas': 7020,\n",
       " 'mouhammara': 54907,\n",
       " 'farhad': 31408,\n",
       " 'fakest': 31191,\n",
       " 'style': 79289,\n",
       " 'hwever': 41654,\n",
       " '15k': 621,\n",
       " 'smokiness': 75968,\n",
       " 'stereo': 78540,\n",
       " 'choucrout': 18149,\n",
       " 'kabon': 45601,\n",
       " 'stongsville': 78807,\n",
       " 'refurbishment': 67996,\n",
       " 'twenties': 85173,\n",
       " 'swapmeet': 80322,\n",
       " 'ate': 8113,\n",
       " 'sprinkles': 77757,\n",
       " 'danes': 23168,\n",
       " 'trou': 84648,\n",
       " 'upcharge': 87055,\n",
       " 'tranquelino': 84142,\n",
       " 'deleg': 24075,\n",
       " 'gère': 38404,\n",
       " 'conceret': 20125,\n",
       " 'hy': 41664,\n",
       " 'cachées': 14980,\n",
       " 'scape': 72151,\n",
       " 'bitchfest': 11733,\n",
       " 'upo': 87106,\n",
       " 'josef': 45219,\n",
       " 'braniff': 13233,\n",
       " 'menüplan': 52801,\n",
       " 'preview': 64835,\n",
       " 'kokkari': 46854,\n",
       " '11lbs': 395,\n",
       " 'woukd': 91473,\n",
       " 'firecrackers': 32377,\n",
       " 'mornay': 54722,\n",
       " 'tubs': 84882,\n",
       " 'bellota': 10802,\n",
       " 'yumzo': 92722,\n",
       " 'foccaia': 33121,\n",
       " 'bilder': 11502,\n",
       " 'unhip': 86363,\n",
       " 'path': 61120,\n",
       " 'amazzingg': 5912,\n",
       " 'spandia': 77136,\n",
       " 'aileen': 5078,\n",
       " 'stf': 78588,\n",
       " 'luxorhotelandcasino': 50224,\n",
       " 'surpise': 80117,\n",
       " 'stated': 78289,\n",
       " 'queri': 66311,\n",
       " 'beansprouts': 10311,\n",
       " 'hygienically': 41705,\n",
       " 'rotini': 70434,\n",
       " '634': 2711,\n",
       " 'sourest': 76976,\n",
       " 'supost': 79995,\n",
       " '2mo': 1561,\n",
       " 'suuuuch': 80250,\n",
       " '___________': 3410,\n",
       " 'bloomi': 12162,\n",
       " 'verdun': 88124,\n",
       " 'rewarm': 69402,\n",
       " 'koh': 46842,\n",
       " 'barsid': 9924,\n",
       " 'news': 56531,\n",
       " '环境不错': 94060,\n",
       " 'gauntlet': 35369,\n",
       " 'riddance': 69582,\n",
       " 'durham': 27416,\n",
       " 'brash': 13252,\n",
       " 'neber': 56163,\n",
       " 'thelmas': 82361,\n",
       " 'grrrrrrrrrreat': 37857,\n",
       " 'cinemark': 18464,\n",
       " '1971': 885,\n",
       " 'wason': 89634,\n",
       " 'room': 70288,\n",
       " 'brizzas': 13686,\n",
       " 'sexists': 73583,\n",
       " 'cavort': 16407,\n",
       " 'conscript': 20483,\n",
       " 'reclam': 67544,\n",
       " 'hippo': 40242,\n",
       " 'plausible': 63206,\n",
       " 'adlai': 4451,\n",
       " 'premiering': 64592,\n",
       " 'basalm': 9967,\n",
       " 'cartwright': 16089,\n",
       " 'torches': 83664,\n",
       " 'phipp': 62298,\n",
       " 'fahrstühlen': 31128,\n",
       " 'hoarder': 40376,\n",
       " 'home': 40607,\n",
       " 'madoff': 50615,\n",
       " 'spivey': 77539,\n",
       " 'cannelloni': 15506,\n",
       " 'albino': 5302,\n",
       " 'avgolemono': 8759,\n",
       " 'saigons': 71158,\n",
       " 'linup': 49033,\n",
       " 'upgrates': 87085,\n",
       " 'strict': 79051,\n",
       " 'ommg': 58620,\n",
       " 'feakl': 31692,\n",
       " 'okay': 58379,\n",
       " 'bubblegum': 14017,\n",
       " 'selben': 73102,\n",
       " 'rutal': 70828,\n",
       " 'weathercast': 89874,\n",
       " 'bevie': 11222,\n",
       " 'malfunctioning': 50941,\n",
       " 'così': 21280,\n",
       " 'いらっしゃいませ': 93413,\n",
       " 'surfboard': 80079,\n",
       " 'dehydr': 24014,\n",
       " 'wingstop': 90870,\n",
       " 'hipster': 40252,\n",
       " 'pricey': 64877,\n",
       " 'laup': 47959,\n",
       " 'olsbgt7i_cha': 58494,\n",
       " 'spatnetz': 77200,\n",
       " 'georg': 35743,\n",
       " 'hai': 38588,\n",
       " '17121': 707,\n",
       " 'hiney': 40202,\n",
       " 'birdcag': 11640,\n",
       " 'chad': 16764,\n",
       " '511': 2412,\n",
       " 'upturn': 87169,\n",
       " 'a50lb': 3514,\n",
       " 'maaaaze': 50399,\n",
       " 'jagger': 44399,\n",
       " 'gyugyuya': 38380,\n",
       " 'turndown': 85035,\n",
       " 'sx': 80506,\n",
       " 'her': 39821,\n",
       " '2beds': 1502,\n",
       " '174': 714,\n",
       " 'lightplex': 48804,\n",
       " 'conic': 20397,\n",
       " 'inning': 43211,\n",
       " 'schnauzer': 72355,\n",
       " 'blonde': 12132,\n",
       " 'gravel': 37351,\n",
       " 'fashad': 31470,\n",
       " 'vaieti': 87487,\n",
       " 'simplified': 74942,\n",
       " 'pintrest': 62814,\n",
       " 'eighter': 28286,\n",
       " 'belgians': 10724,\n",
       " 'entier': 29266,\n",
       " 'mimiga': 53544,\n",
       " 'viabil': 88366,\n",
       " 'dippers': 25376,\n",
       " 'biancos': 11334,\n",
       " 'truc': 84692,\n",
       " 'beware': 11236,\n",
       " 'azphm': 9003,\n",
       " 'snarky': 76103,\n",
       " 'pigskin': 62647,\n",
       " 'christi': 18197,\n",
       " 'mokaleti': 54304,\n",
       " 'wedgies': 89911,\n",
       " 'chagrined': 16778,\n",
       " 'uthappam': 87315,\n",
       " 'poolbar': 63777,\n",
       " 'bury': 14545,\n",
       " 'men': 52714,\n",
       " 'jens': 44808,\n",
       " 'satt': 71848,\n",
       " '1lb': 976,\n",
       " 'worsts': 91446,\n",
       " 'schmealthi': 72331,\n",
       " 'bolster': 12510,\n",
       " 'adults': 4541,\n",
       " 'heinous': 39663,\n",
       " 'pavlov': 61241,\n",
       " 'firet': 32415,\n",
       " 'qsc': 66145,\n",
       " 'elwood': 28597,\n",
       " 'tarian': 81245,\n",
       " 'sanma': 71606,\n",
       " 'alloggiato': 5573,\n",
       " 'frischem': 34237,\n",
       " 'madi': 50599,\n",
       " 'quaintness': 66178,\n",
       " 'serums': 73404,\n",
       " 'amoir': 6110,\n",
       " 'fom': 33217,\n",
       " '32pp': 1765,\n",
       " '3100': 1709,\n",
       " 'aumbianc': 8482,\n",
       " 'quil': 66424,\n",
       " 'carmelization': 15907,\n",
       " 'arianna': 7449,\n",
       " 'courvoisi': 21460,\n",
       " 'june': 45458,\n",
       " 'texturally': 82172,\n",
       " 'crossfit': 22181,\n",
       " 'traido': 84080,\n",
       " 'inseparable': 43302,\n",
       " 'joanne': 45080,\n",
       " 'baressen': 9811,\n",
       " '100oz': 182,\n",
       " 'occurrence': 58029,\n",
       " 'lupe': 50168,\n",
       " 'qute': 66515,\n",
       " 'inflexible': 42994,\n",
       " 'chestnut': 17532,\n",
       " 'koele': 46831,\n",
       " 'shoelaces': 74297,\n",
       " 'zach': 92825,\n",
       " 'totonto': 83834,\n",
       " 'simons': 74925,\n",
       " 'slowdown': 75726,\n",
       " 'アリゾナっていうｗｗ': 93477,\n",
       " 'looooooong': 49625,\n",
       " 'atleier': 8178,\n",
       " '7hrs': 3010,\n",
       " 'kichen': 46353,\n",
       " 'joyc': 45273,\n",
       " 'consolation': 20550,\n",
       " 'kabc': 45589,\n",
       " 'hussein': 41581,\n",
       " 'meditteran': 52455,\n",
       " 'expeci': 30567,\n",
       " '95ahwqwjctxg36p8nbq7xg': 3318,\n",
       " 'coins': 19384,\n",
       " '195': 857,\n",
       " 'celebrants': 16514,\n",
       " 'guulab': 38285,\n",
       " 'hou': 41117,\n",
       " 'regadless': 68007,\n",
       " 'erbe': 29531,\n",
       " '00a': 22,\n",
       " 'blandest': 11918,\n",
       " 'troublesom': 84657,\n",
       " 'keys': 46284,\n",
       " 'container': 20649,\n",
       " 'submission': 79372,\n",
       " 'spc': 77218,\n",
       " 'jampoong': 44513,\n",
       " 'donte': 26396,\n",
       " 'geforc': 35499,\n",
       " 'nickelsberg': 56653,\n",
       " 'turkado': 85022,\n",
       " 'gimmicky': 36168,\n",
       " 'mediterranean': 52448,\n",
       " '黑店': 94321,\n",
       " 'willnev': 90757,\n",
       " 'promises': 65270,\n",
       " 'distracting': 25936,\n",
       " 'arpaio': 7581,\n",
       " 'countri': 21392,\n",
       " 'lunesta': 50157,\n",
       " 'bearer': 10323,\n",
       " 'machengo': 50486,\n",
       " 'nengmyeon': 56350,\n",
       " 'padano': 60125,\n",
       " '2230': 1243,\n",
       " 'peeky': 61475,\n",
       " 'substutions': 79437,\n",
       " 'kuma': 47196,\n",
       " 'ingreedients': 43086,\n",
       " 'exist': 30519,\n",
       " 'donburis': 26349,\n",
       " 'lovelove': 49877,\n",
       " 'dairy': 23051,\n",
       " 'anit': 6519,\n",
       " 'pastir': 61054,\n",
       " 'roe': 70113,\n",
       " '2038': 1115,\n",
       " 'fillabl': 32190,\n",
       " 'spicer': 77414,\n",
       " 'hindenburg': 40192,\n",
       " 'polpo': 63672,\n",
       " 'aaaaaand': 3553,\n",
       " 'sole': 76495,\n",
       " 'arepas': 7403,\n",
       " 'awhil': 8892,\n",
       " 'shore': 74364,\n",
       " 'rushant': 70789,\n",
       " 'guideway': 38104,\n",
       " 'adventerous': 4560,\n",
       " 'punxsutawney': 65863,\n",
       " 'authet': 8591,\n",
       " 'rezeptionsmitarbeit': 69433,\n",
       " 'anstehenden': 6652,\n",
       " 'amateurish': 5861,\n",
       " 'faults': 31586,\n",
       " 'tummy': 84960,\n",
       " 'alllllll': 5559,\n",
       " 'ross': 70393,\n",
       " 'dido': 25041,\n",
       " 'premis': 64594,\n",
       " 'uuuhhh': 87376,\n",
       " 'fas': 31460,\n",
       " 'drai': 26774,\n",
       " 'induc': 42866,\n",
       " 'angel': 6404,\n",
       " 'gawk': 35389,\n",
       " 'openion': 58902,\n",
       " 'tula': 84934,\n",
       " 'arrêtes': 7673,\n",
       " 'freemont': 33997,\n",
       " 'contemplation': 20666,\n",
       " 'etheir': 29952,\n",
       " 'wiggli': 90682,\n",
       " 'helas': 39685,\n",
       " 'ver': 88080,\n",
       " 'bremner': 13448,\n",
       " 'mecan': 52338,\n",
       " 'florets': 32959,\n",
       " 'vases': 87721,\n",
       " 'shinanigan': 74109,\n",
       " 'comonwealth': 19799,\n",
       " '209': 1127,\n",
       " 'rates': 67023,\n",
       " 'encouraging': 28944,\n",
       " 'martingal': 51677,\n",
       " 'vagrancy': 87478,\n",
       " 'trcuk': 84312,\n",
       " 'infomerci': 43008,\n",
       " 'originaux': 59209,\n",
       " 'jeruselem': 44848,\n",
       " 'ending': 28978,\n",
       " 'maps': 51318,\n",
       " 'actinidia': 4248,\n",
       " 'yardhous': 92044,\n",
       " 'アリゾナでなかなかナスの味噌煮などの日本ではありふれた家庭食が食べれなかったのでなんだかほっとする感じでした': 93478,\n",
       " 'spliff': 77561,\n",
       " 'precook': 64446,\n",
       " 'léger': 50348,\n",
       " 'mayor': 52059,\n",
       " 'sidebar': 74692,\n",
       " 'descib': 24556,\n",
       " 'employer': 28803,\n",
       " 'yeahhhhh': 92123,\n",
       " 'cartridge': 16084,\n",
       " 'outdat': 59467,\n",
       " 'trime': 84494,\n",
       " 'craphole': 21711,\n",
       " 'boysenberri': 13117,\n",
       " 'shoot': 74328,\n",
       " 'cjs': 18640,\n",
       " 'merging': 52853,\n",
       " 'disliked': 25710,\n",
       " 'justa': 45505,\n",
       " 'balls': 9544,\n",
       " 'loaner': 49309,\n",
       " 'énergie': 93284,\n",
       " 'dupre': 27391,\n",
       " 'rooting': 70325,\n",
       " 'ytell': 92566,\n",
       " 'habari': 38465,\n",
       " 'birhday': 11651,\n",
       " 'whitewash': 90491,\n",
       " 'passable': 60966,\n",
       " 'each': 27668,\n",
       " 'restarurants': 69012,\n",
       " 'dik': 25196,\n",
       " 'everythingggggggg': 30202,\n",
       " 'reeses': 67867,\n",
       " 'parvo': 60941,\n",
       " 'eggnog': 28184,\n",
       " 'conditionar': 20228,\n",
       " 'diswash': 25967,\n",
       " 'iriana': 43920,\n",
       " 'instructors': 43422,\n",
       " 'noc': 56966,\n",
       " 'frequented': 34078,\n",
       " 'higgin': 40068,\n",
       " 'stephi': 78529,\n",
       " 'yeaaaaaa': 92107,\n",
       " 'dunkel': 27348,\n",
       " 'disapppoint': 25481,\n",
       " 'jiigae': 44972,\n",
       " 'smidg': 75908,\n",
       " 'unbear': 85704,\n",
       " 'bigodi': 11459,\n",
       " 'scower': 72604,\n",
       " 'driftless': 26923,\n",
       " 'underpow': 85990,\n",
       " 'dictator': 25018,\n",
       " 'authenticity': 8585,\n",
       " 'closets': 19025,\n",
       " 'unabl': 85599,\n",
       " 'maggianos': 50663,\n",
       " 'partylaune': 60937,\n",
       " 'blockages': 12105,\n",
       " 'wigwam': 90689,\n",
       " 'gen': 35607,\n",
       " 'topic': 83628,\n",
       " 'minnie': 53669,\n",
       " 'lien': 48723,\n",
       " 'displaced': 25784,\n",
       " 'basgio': 9988,\n",
       " 'señora': 73603,\n",
       " 'farmed': 31418,\n",
       " 'mas': 51721,\n",
       " 'softdrink': 76412,\n",
       " 'inserted': 43304,\n",
       " 'purifier': 65914,\n",
       " 'sticked': 78599,\n",
       " 'siu1': 75175,\n",
       " 'breadier': 13327,\n",
       " 'structures': 79157,\n",
       " 'unresolv': 86759,\n",
       " 'tenets': 81892,\n",
       " 'clevage': 18890,\n",
       " 'thorough': 82636,\n",
       " 'aonc': 6869,\n",
       " 'dumplings': 27314,\n",
       " 'regaret': 68023,\n",
       " 'congratualtions': 20379,\n",
       " 'zombie': 93093,\n",
       " 'guarente': 38020,\n",
       " 'daaa': 22950,\n",
       " 'ces': 16703,\n",
       " 'peeeerfect': 61468,\n",
       " 'abandonne': 3642,\n",
       " 'reps': 68740,\n",
       " 'dervice': 24532,\n",
       " 'sourdoh': 76971,\n",
       " 'omgggggggggggggg': 58575,\n",
       " '1month': 987,\n",
       " 'kaufman': 45967,\n",
       " 'clangy': 18699,\n",
       " 'supervising': 79983,\n",
       " 'devoted': 24851,\n",
       " 'hott': 41097,\n",
       " 'massg': 51804,\n",
       " 'seate': 72887,\n",
       " 'substitutions': 79436,\n",
       " 'befindet': 10575,\n",
       " 'vann': 87635,\n",
       " 'müsste': 55668,\n",
       " 'verklempt': 88171,\n",
       " 'fiirst': 32150,\n",
       " 'deviant': 24813,\n",
       " 'with1': 90995,\n",
       " '223': 1242,\n",
       " 'hämta': 41775,\n",
       " '3min': 1973,\n",
       " 'v12': 87400,\n",
       " 'wea': 89838,\n",
       " '545': 2482,\n",
       " 'raoul': 66914,\n",
       " 'burglarized': 14456,\n",
       " 'rerouted': 68792,\n",
       " 'lityl': 49179,\n",
       " 'dallop': 23083,\n",
       " 'whhhhhaaaaaat': 90381,\n",
       " 'goober': 36805,\n",
       " '最大的特色就是包括軟性與酒水飲料在內都是自助式的': 93964,\n",
       " 'bandaid': 9616,\n",
       " 'frayer': 33904,\n",
       " 'choices': 18033,\n",
       " 'canelés': 15484,\n",
       " 'eatabl': 27786,\n",
       " 'amon': 6113,\n",
       " 'beset': 11069,\n",
       " 'machineri': 50495,\n",
       " 'tyrannosaurus': 85297,\n",
       " 'urns': 87215,\n",
       " 'knoledg': 46755,\n",
       " 'succel': 79482,\n",
       " 'sunsin': 79857,\n",
       " 'bailess': 9399,\n",
       " 'sciatica': 72463,\n",
       " 'pornstar': 63931,\n",
       " 'splenda': 77552,\n",
       " 'gennaro': 35669,\n",
       " 'raimondo': 66725,\n",
       " 'undeterred': 86096,\n",
       " 'aways': 8846,\n",
       " 'denounc': 24377,\n",
       " 'mange': 51139,\n",
       " 'chkcardkabuki': 17962,\n",
       " 'geholt': 35526,\n",
       " 'geezus': 35493,\n",
       " 'tcuke': 81535,\n",
       " 'kendra': 46151,\n",
       " 'indented': 42774,\n",
       " 'marseill': 51645,\n",
       " 'ishin': 44038,\n",
       " 'verbosity': 88105,\n",
       " 'lacked': 47423,\n",
       " 'janet': 44537,\n",
       " 'pourrait': 64233,\n",
       " 'poolssss': 63788,\n",
       " 'shelton': 73999,\n",
       " 'volcom': 88896,\n",
       " 'caceo': 14973,\n",
       " 'tthis': 84855,\n",
       " 'mlb': 54052,\n",
       " 'gratifi': 37316,\n",
       " 'fusili': 34775,\n",
       " 'darrilyn': 23291,\n",
       " 'warmly': 89542,\n",
       " 'youth': 92531,\n",
       " 'agreeing': 4932,\n",
       " 'nikki': 56786,\n",
       " 'fitzgeralds': 32536,\n",
       " 'unsoci': 86844,\n",
       " 'lounging': 49821,\n",
       " 'muchhhhh': 55104,\n",
       " 'impress': 42451,\n",
       " 'darkroom': 23271,\n",
       " 'impoli': 42409,\n",
       " 'meowed': 52805,\n",
       " 'breizh': 13443,\n",
       " 'discriminatori': 25593,\n",
       " 'nighties': 56728,\n",
       " '1922': 830,\n",
       " 'manilow': 51202,\n",
       " 'skogstrol': 75350,\n",
       " 'smackaroos': 75817,\n",
       " 'sundubu': 79807,\n",
       " 'torrenti': 83717,\n",
       " 'experiencing': 30647,\n",
       " 'achouffe': 4141,\n",
       " 'préférentiel': 65559,\n",
       " 'armrest': 7538,\n",
       " 'artiste': 7737,\n",
       " 'raido': 66713,\n",
       " '1145': 358,\n",
       " 'gettign': 35912,\n",
       " 'encourag': 28941,\n",
       " 'misgivings': 53830,\n",
       " 'sherrie': 74035,\n",
       " 'dukin': 27260,\n",
       " 'penthous': 61652,\n",
       " 'disinclin': 25687,\n",
       " 'mcdempsey': 52143,\n",
       " 'raises': 66758,\n",
       " 'hastili': 39209,\n",
       " 'whole30': 90526,\n",
       " 'jujub': 45395,\n",
       " 'atractivo': 8248,\n",
       " 'certian': 16678,\n",
       " 'halfbak': 38679,\n",
       " 'juilo': 45392,\n",
       " 'happybirthdaykennedi': 39005,\n",
       " '20p': 1156,\n",
       " 'harpi': 39119,\n",
       " 'sz': 80612,\n",
       " 'coupler': 21410,\n",
       " 'reflètent': 67935,\n",
       " 'mescal': 52910,\n",
       " 'establishment': 29855,\n",
       " 'bouchot': 12924,\n",
       " 'wartenden': 89583,\n",
       " 'unblur': 85731,\n",
       " 'facetim': 31045,\n",
       " 'dtla': 27154,\n",
       " 'afters': 4782,\n",
       " 'milkshak': 53475,\n",
       " 'japanese': 44572,\n",
       " 'pilof': 62698,\n",
       " 'shattering': 73878,\n",
       " 'islandish': 44055,\n",
       " 'incandesc': 42554,\n",
       " 'wheelchair': 90319,\n",
       " 'anoth': 6630,\n",
       " 'kleinfield': 46664,\n",
       " 'chimmi': 17828,\n",
       " 'scab': 72077,\n",
       " 'kany': 45793,\n",
       " 'stsill': 79182,\n",
       " 'cat5': 16231,\n",
       " '后来点的菜根本就吃不动了': 93756,\n",
       " 'everday': 30133,\n",
       " 'schnoz': 72367,\n",
       " 'offerins': 58188,\n",
       " 'februrary': 31731,\n",
       " 'disrespected': 25830,\n",
       " 'sewage': 73567,\n",
       " 'gvhcw': 38324,\n",
       " 'inhale': 43103,\n",
       " 'bico': 11379,\n",
       " 'yameru': 92010,\n",
       " 'massey': 51803,\n",
       " 'exceptionnel': 30394,\n",
       " 'shall': 73736,\n",
       " 'xrayed': 91886,\n",
       " 'billboard': 11516,\n",
       " 'roberto': 69992,\n",
       " 'suvalaki': 80261,\n",
       " 'camoflaug': 15353,\n",
       " 'shootin': 74331,\n",
       " 'repead': 68629,\n",
       " 'flegenhiem': 32794,\n",
       " 'gutter': 38278,\n",
       " 'pvc': 66019,\n",
       " 'parc': 60690,\n",
       " 'streaky': 78988,\n",
       " 'butterfield': 14680,\n",
       " 'disfunct': 25630,\n",
       " 'tappers': 81188,\n",
       " 'gage': 34953,\n",
       " 'kachtub': 45613,\n",
       " 'hipsterism': 40255,\n",
       " 'shunt': 74598,\n",
       " 'insulated': 43438,\n",
       " 'apparently': 7002,\n",
       " 'goatie': 36595,\n",
       " 'shoppen': 74353,\n",
       " 'wonderul': 91205,\n",
       " 'retribut': 69236,\n",
       " 'everlov': 30143,\n",
       " 'kontrast': 46935,\n",
       " 'kylie': 47302,\n",
       " 'boon': 12709,\n",
       " 'oct1st': 58057,\n",
       " 'omgood': 58581,\n",
       " 'faria': 31410,\n",
       " 'sexes': 73575,\n",
       " 'vmail': 88834,\n",
       " 'foodqual': 33293,\n",
       " 'h2o': 38432,\n",
       " 'nicolett': 56675,\n",
       " 'brainpower': 13185,\n",
       " 'herbi': 39840,\n",
       " 'cpr': 21576,\n",
       " 'remont': 68462,\n",
       " '1936': 845,\n",
       " 'illnesses': 42169,\n",
       " 'spiegel': 77443,\n",
       " 'potato': 64133,\n",
       " 'fii': 32144,\n",
       " 'taxidermi': 81458,\n",
       " 'tulli': 84937,\n",
       " 'aros': 7568,\n",
       " 'tamagoyaki': 80999,\n",
       " 'ehhhhhhhhhhhhhhhhhhhhhhhh': 28259,\n",
       " 'postinos': 64095,\n",
       " 'unmiya': 86563,\n",
       " 'wowwwwwwww': 91510,\n",
       " 'manoeuvr': 51247,\n",
       " 'hoopti': 40815,\n",
       " 'massiv': 51807,\n",
       " 'saddened': 71061,\n",
       " 'sall': 71292,\n",
       " 'finalist': 32253,\n",
       " 'enchiliada': 28907,\n",
       " 'angerichtet': 6436,\n",
       " 'camillo': 15343,\n",
       " 'seitan': 73088,\n",
       " 'glows': 36484,\n",
       " 'itsjustasalad': 44190,\n",
       " 'wut': 91688,\n",
       " 'copter': 20994,\n",
       " 'aahhhhhmazing': 3605,\n",
       " 'tenticles': 81930,\n",
       " 'entee': 29212,\n",
       " 'beeg': 10515,\n",
       " 'disturbances': 25961,\n",
       " 'piemont': 62588,\n",
       " 'service': 73434,\n",
       " 'agsin': 4952,\n",
       " 'knickknack': 46722,\n",
       " 'diagnostic': 24921,\n",
       " 'immed': 42272,\n",
       " 'joana': 45077,\n",
       " 'caramelly': 15754,\n",
       " 'loitering': 49456,\n",
       " 'funkiest': 34677,\n",
       " 'ouverte': 59601,\n",
       " 'cultureless': 22564,\n",
       " 'outing': 59503,\n",
       " 'mommi': 54371,\n",
       " 'aaaaannnndddd': 3561,\n",
       " 'garland': 35223,\n",
       " 'notori': 57424,\n",
       " 'antagonistic': 6666,\n",
       " 'laffa': 47491,\n",
       " 'deodorant': 24412,\n",
       " '8min': 3204,\n",
       " 'butterfly': 14690,\n",
       " 'diiid': 25184,\n",
       " 'stingily': 78677,\n",
       " 'icees': 41875,\n",
       " 'constant': 20577,\n",
       " 'karnag': 45868,\n",
       " 'briand': 13519,\n",
       " 'yeeha': 92169,\n",
       " 'deffent': 23887,\n",
       " 'primping': 64935,\n",
       " 'content': 20680,\n",
       " '_their': 3476,\n",
       " 'seasoning': 72877,\n",
       " 'carryon': 16051,\n",
       " 'blistering': 12083,\n",
       " 'concoctions': 20169,\n",
       " 'improvised': 42492,\n",
       " 'sympathiqu': 80543,\n",
       " 'furnishings': 34740,\n",
       " 'masterchef': 51822,\n",
       " 'death': 23557,\n",
       " 'hahahahahahaha': 38580,\n",
       " 'hairston': 38634,\n",
       " 'biersch': 11419,\n",
       " 'sanfrancesco': 71567,\n",
       " 'blingi': 12063,\n",
       " 'regist': 68059,\n",
       " 'particularili': 60898,\n",
       " 'grassfed': 37295,\n",
       " 'clumsili': 19102,\n",
       " 'rumpled': 70739,\n",
       " 'delaney': 24051,\n",
       " 'sundries': 79805,\n",
       " 'velvets': 87978,\n",
       " 'hanging': 38922,\n",
       " 'flieg': 32842,\n",
       " 'spilling': 77474,\n",
       " 'memoriabilia': 52696,\n",
       " 'difinit': 25130,\n",
       " 'terrestre': 82034,\n",
       " 'pizzas': 62990,\n",
       " 'cur': 22625,\n",
       " '2time': 1605,\n",
       " 'backer': 9199,\n",
       " 'indict': 42809,\n",
       " 'sensori': 73244,\n",
       " 'deeper': 23836,\n",
       " 'umff': 85554,\n",
       " 'makeover': 50863,\n",
       " 'iq': 43885,\n",
       " 'singerjaim': 75004,\n",
       " 'equinox': 29492,\n",
       " 'entrar': 29302,\n",
       " 'replicate': 68671,\n",
       " 'rehyder': 68142,\n",
       " 'unwarr': 86991,\n",
       " 'deuxièm': 24785,\n",
       " 'matrimoni': 51925,\n",
       " 'waitin': 89322,\n",
       " 'briney': 13603,\n",
       " 'aerotank': 4644,\n",
       " 'sauna': 71905,\n",
       " 'bean': 10295,\n",
       " 'gesperrt': 35865,\n",
       " 'stopper': 78826,\n",
       " 'erstaunlich': 29643,\n",
       " 'compos': 19996,\n",
       " 'sausagey': 71923,\n",
       " 'douchi': 26592,\n",
       " 'rejoice': 68228,\n",
       " 'fameux': 31251,\n",
       " 'correctes': 21162,\n",
       " 'palermo': 60297,\n",
       " 'greta': 37550,\n",
       " 'arrivar': 7627,\n",
       " 'sbc': 72060,\n",
       " 'wpwsytayvtfnb': 91523,\n",
       " 'jaquelin': 44600,\n",
       " 'fahrzeug': 31131,\n",
       " 'asteroid': 8038,\n",
       " 'slippy': 75631,\n",
       " 'lgbtq': 48606,\n",
       " 'almo': 5629,\n",
       " 'museum': 55366,\n",
       " 'gesehen': 35861,\n",
       " 'kramer': 47060,\n",
       " 'blender': 12028,\n",
       " 'ez': 30952,\n",
       " 'brekki': 13446,\n",
       " 'mindless': 53577,\n",
       " 'gravylici': 37370,\n",
       " 'julio': 45419,\n",
       " 'yugoslavian': 92596,\n",
       " 'celui': 16568,\n",
       " 'cano': 15531,\n",
       " 'cant': 15547,\n",
       " 'coif': 19370,\n",
       " 'perus': 62022,\n",
       " 'cualquiera': 22449,\n",
       " 'termit': 82007,\n",
       " 'sheryll': 74042,\n",
       " 'futil': 34797,\n",
       " 'customerservice': 22768,\n",
       " 'drugs': 27069,\n",
       " 'beeeeeeep': 10499,\n",
       " 'tagline': 80827,\n",
       " 'failte': 31144,\n",
       " '3b': 1930,\n",
       " 'profiterol': 65197,\n",
       " 'dass': 23321,\n",
       " 'fus': 34767,\n",
       " 'grouchi': 37777,\n",
       " 'consortium': 20560,\n",
       " 'macgyv': 50478,\n",
       " 'shuttl': 74619,\n",
       " 'fakin': 31193,\n",
       " 'sams': 71475,\n",
       " 'endocrin': 28990,\n",
       " 'socioeconomically': 76364,\n",
       " 'lawrence': 48043,\n",
       " 'withoout': 91018,\n",
       " 'verbinden': 88101,\n",
       " 'furtiv': 34762,\n",
       " 'basted': 10043,\n",
       " 'sause': 71927,\n",
       " 'shortest': 74388,\n",
       " 'bossom': 12862,\n",
       " 'katz': 45963,\n",
       " 'cassettes': 16188,\n",
       " 'acceptor': 3941,\n",
       " 'offset': 58230,\n",
       " 'appointed': 7119,\n",
       " 'phood': 62360,\n",
       " 'travel': 84274,\n",
       " 'threwn': 82704,\n",
       " '2x4': 1619,\n",
       " 'fest': 31942,\n",
       " 'construction': 20603,\n",
       " 'cure': 22642,\n",
       " 'slimmer': 75601,\n",
       " 'ibises': 41845,\n",
       " 'ix': 44246,\n",
       " 'flit': 32893,\n",
       " 'tricolor': 84463,\n",
       " 'custardardi': 22747,\n",
       " 'aswell': 8089,\n",
       " 'ninth': 56845,\n",
       " 'culo': 22551,\n",
       " 'aucoin': 8404,\n",
       " 'makgoli': 50875,\n",
       " 'drilling': 26929,\n",
       " 'zillion': 93011,\n",
       " 'comest': 19639,\n",
       " 'yogo': 92387,\n",
       " 'ananas': 6228,\n",
       " 'carmi': 15915,\n",
       " 'simultan': 74962,\n",
       " 'culver': 22568,\n",
       " 'tomando': 83467,\n",
       " 'paleontology': 60295,\n",
       " 'decore': 23750,\n",
       " 'er': 29518,\n",
       " 'seahawks': 72815,\n",
       " 'discrèt': 25597,\n",
       " 'sentiv': 73266,\n",
       " 'muzzl': 55497,\n",
       " 'gou': 37022,\n",
       " 'hestit': 39952,\n",
       " 'greenblatt': 37470,\n",
       " 'quesodillas': 66347,\n",
       " '良い点はラスベガスに近い所': 94154,\n",
       " 'unapprov': 85663,\n",
       " 'edibles': 27981,\n",
       " 'credenti': 21875,\n",
       " '888009347946818': 3165,\n",
       " 'proabali': 65040,\n",
       " 'dizzying': 26062,\n",
       " 'prend': 64609,\n",
       " 'greenville': 37501,\n",
       " 'tuve': 85106,\n",
       " 'schwartz': 72430,\n",
       " 'structur': 79152,\n",
       " 'threadbare': 82677,\n",
       " 'rosso': 70399,\n",
       " 'numbers': 57609,\n",
       " 'hues': 41310,\n",
       " '207': 1122,\n",
       " 'vee': 87788,\n",
       " 'cuticle': 22800,\n",
       " '2270': 1252,\n",
       " 'intrigu': 43716,\n",
       " 'nillly': 56806,\n",
       " 'organica': 59149,\n",
       " 'redistribut': 67766,\n",
       " 'miserable': 53818,\n",
       " 'stairmast': 78080,\n",
       " 'experiece': 30637,\n",
       " 'highhors': 40083,\n",
       " 'zepoli': 92944,\n",
       " 'ecm': 27900,\n",
       " 'afternoons': 4778,\n",
       " 'ansprachen': 6647,\n",
       " 'attorneysteve': 8351,\n",
       " 'hett': 39960,\n",
       " 'absinth': 3818,\n",
       " 'urusawa': 87222,\n",
       " 'raaw': 66555,\n",
       " 'sleeze': 75538,\n",
       " 'crackerbarrel': 21627,\n",
       " 'troy': 84688,\n",
       " 'assaisonnés': 7925,\n",
       " 'bene': 10884,\n",
       " 'deviate': 24815,\n",
       " 'redd': 67710,\n",
       " 'lychee': 50285,\n",
       " '9211': 3282,\n",
       " 'scamp': 72123,\n",
       " 'jazzi': 44689,\n",
       " 'viviana': 88812,\n",
       " 'implor': 42402,\n",
       " 'wolv': 91169,\n",
       " 'tremor': 84367,\n",
       " 'conceivable': 20106,\n",
       " 'unimagin': 86396,\n",
       " 'cinnemon': 18490,\n",
       " 'glitterati': 36425,\n",
       " 'ketchups': 46243,\n",
       " 'swordplay': 80495,\n",
       " 'esturgeons': 29919,\n",
       " 'fllavour': 32900,\n",
       " 'sarah': 71694,\n",
       " 'styling': 79294,\n",
       " 'though': 82648,\n",
       " 'ketel': 46245,\n",
       " 'teej': 81670,\n",
       " 'rockbar': 70046,\n",
       " 'giselle': 36252,\n",
       " 'keychains': 46273,\n",
       " 'freie': 34028,\n",
       " 'usmenuguide': 87270,\n",
       " 'incarnate': 42561,\n",
       " 'fairfield': 31158,\n",
       " 'goucho': 37023,\n",
       " 'hurted': 41551,\n",
       " 'sigi': 74789,\n",
       " ...}"
      ]
     },
     "execution_count": 8,
     "metadata": {},
     "output_type": "execute_result"
    }
   ],
   "source": [
    "Tfidf_vect.vocabulary_"
   ]
  },
  {
   "cell_type": "code",
   "execution_count": 10,
   "metadata": {},
   "outputs": [],
   "source": [
    "Train_X_Tfidf = Tfidf_vect.transform(Train_X.values.astype('U'))\n",
    "Test_X_Tfidf = Tfidf_vect.transform(Test_X.values.astype('U'))"
   ]
  },
  {
   "cell_type": "code",
   "execution_count": 58,
   "metadata": {},
   "outputs": [
    {
     "data": {
      "text/plain": [
       "GradientBoostingClassifier(criterion='friedman_mse', init=None,\n",
       "                           learning_rate=0.75, loss='deviance', max_depth=55,\n",
       "                           max_features=1900, max_leaf_nodes=None,\n",
       "                           min_impurity_decrease=0.0, min_impurity_split=None,\n",
       "                           min_samples_leaf=1, min_samples_split=2,\n",
       "                           min_weight_fraction_leaf=0.0, n_estimators=20,\n",
       "                           n_iter_no_change=None, presort='auto',\n",
       "                           random_state=1, subsample=1.0, tol=0.0001,\n",
       "                           validation_fraction=0.1, verbose=0,\n",
       "                           warm_start=False)"
      ]
     },
     "execution_count": 58,
     "metadata": {},
     "output_type": "execute_result"
    }
   ],
   "source": [
    "from sklearn.metrics import confusion_matrix as cm,classification_report\n",
    "import sklearn.metrics as metrics\n",
    "from sklearn.ensemble import GradientBoostingClassifier\n",
    "\n",
    "gb_clf = GradientBoostingClassifier(n_estimators=20, learning_rate=0.75, max_features=1900, max_depth=55, random_state=1)\n",
    "gb_clf.fit(Train_X_Tfidf,Train_Y)"
   ]
  },
  {
   "cell_type": "code",
   "execution_count": 59,
   "metadata": {},
   "outputs": [],
   "source": [
    "\n",
    "# Use accuracy_score function to get the accuracy\n",
    "#print(\"Naive Bayes Accuracy Score -> \",accuracy_score(predictions_NB, Test_Y)*100)\n"
   ]
  },
  {
   "cell_type": "code",
   "execution_count": 60,
   "metadata": {
    "scrolled": false
   },
   "outputs": [
    {
     "name": "stdout",
     "output_type": "stream",
     "text": [
      "[[ 2663  1004  1016   926   953]\n",
      " [ 1014   915  1440  1542   851]\n",
      " [  575   863  1974  3320  1504]\n",
      " [  468   673  1750  6426  6448]\n",
      " [  468   543   929  4461 17274]]\n",
      "\n",
      "\n",
      "Classification Report \n",
      "              precision    recall  f1-score   support\n",
      "\n",
      "           0       0.51      0.41      0.45      6562\n",
      "           1       0.23      0.16      0.19      5762\n",
      "           2       0.28      0.24      0.26      8236\n",
      "           3       0.39      0.41      0.40     15765\n",
      "           4       0.64      0.73      0.68     23675\n",
      "\n",
      "    accuracy                           0.49     60000\n",
      "   macro avg       0.41      0.39      0.40     60000\n",
      "weighted avg       0.47      0.49      0.48     60000\n",
      "\n",
      "Random forest Accuracy Score -> 0.4875333333333333\n"
     ]
    }
   ],
   "source": [
    "predictions = gb_clf.predict(Test_X_Tfidf)\n",
    "print(cm(Test_Y, predictions))\n",
    "print('\\n')\n",
    "print(\"Classification Report \")\n",
    "print(classification_report(Test_Y, predictions.astype(np.int)))\n",
    "print(\"Random forest Accuracy Score ->\",metrics.accuracy_score(Test_Y, predictions.astype(np.int)))"
   ]
  },
  {
   "cell_type": "code",
   "execution_count": 57,
   "metadata": {},
   "outputs": [
    {
     "ename": "ImportError",
     "evalue": "No module named 'xgboost'",
     "output_type": "error",
     "traceback": [
      "\u001b[0;31m---------------------------------------------------------------------------\u001b[0m",
      "\u001b[0;31mImportError\u001b[0m                               Traceback (most recent call last)",
      "\u001b[0;32m<ipython-input-57-5943d1bfe3f1>\u001b[0m in \u001b[0;36m<module>\u001b[0;34m\u001b[0m\n\u001b[0;32m----> 1\u001b[0;31m \u001b[0;32mimport\u001b[0m \u001b[0mxgboost\u001b[0m \u001b[0;32mas\u001b[0m \u001b[0mxgb\u001b[0m\u001b[0;34m\u001b[0m\u001b[0m\n\u001b[0m",
      "\u001b[0;31mImportError\u001b[0m: No module named 'xgboost'"
     ]
    }
   ],
   "source": [
    "import xgboost as xgb"
   ]
  },
  {
   "cell_type": "code",
   "execution_count": null,
   "metadata": {},
   "outputs": [],
   "source": [
    "from sklearn.metrics import confusion_matrix as cm,classification_report\n",
    "import sklearn.metrics as metrics\n",
    "from sklearn.ensemble import RandomForestRegressor\n",
    "\n",
    "regressor = RandomForestRegressor(n_estimators=20, random_state=0)\n",
    "regressor.fit(Train_X_Tfidf,Train_Y)\n",
    "y_pred_random = regressor.predict(X_test)\n",
    "# Use accuracy_score function to get the accuracy\n",
    "#print(\"Naive Bayes Accuracy Score -> \",accuracy_score(predictions_NB, Test_Y)*100)\n",
    "print(cm(Test_Y, y_pred_random))\n",
    "print('\\n')\n",
    "print(\"Classification Report \")\n",
    "print(classification_report(Test_Y, y_pred_random))\n",
    "print(\"Random forest Accuracy Score ->\",metrics.accuracy_score(Test_Y, y_pred_random))\n"
   ]
  },
  {
   "cell_type": "code",
   "execution_count": null,
   "metadata": {},
   "outputs": [],
   "source": []
  },
  {
   "cell_type": "code",
   "execution_count": 10,
   "metadata": {},
   "outputs": [
    {
     "name": "stdout",
     "output_type": "stream",
     "text": [
      "[[ 2830     4    75  1269  2384]\n",
      " [  637     1   159  2483  2482]\n",
      " [  213     5    88  4178  3752]\n",
      " [   53     5    29  4392 11286]\n",
      " [   44     4    16  1457 22154]]\n",
      "\n",
      "\n",
      "Classification Report \n",
      "              precision    recall  f1-score   support\n",
      "\n",
      "           0       0.75      0.43      0.55      6562\n",
      "           1       0.05      0.00      0.00      5762\n",
      "           2       0.24      0.01      0.02      8236\n",
      "           3       0.32      0.28      0.30     15765\n",
      "           4       0.53      0.94      0.67     23675\n",
      "\n",
      "    accuracy                           0.49     60000\n",
      "   macro avg       0.38      0.33      0.31     60000\n",
      "weighted avg       0.41      0.49      0.41     60000\n",
      "\n",
      "Naive Bayes Accuracy Score -> 0.4910833333333333\n"
     ]
    }
   ],
   "source": [
    "# fit the training dataset on the NB classifier\n",
    "from sklearn.metrics import confusion_matrix as cm,classification_report\n",
    "import sklearn.metrics as metrics\n",
    "Naive = naive_bayes.MultinomialNB()\n",
    "Naive.fit(Train_X_Tfidf,Train_Y)\n",
    "# predict the labels on validation dataset\n",
    "predictions_NB = Naive.predict(Test_X_Tfidf)\n",
    "# Use accuracy_score function to get the accuracy\n",
    "#print(\"Naive Bayes Accuracy Score -> \",accuracy_score(predictions_NB, Test_Y)*100)\n",
    "print(cm(Test_Y, predictions_NB))\n",
    "print('\\n')\n",
    "print(\"Classification Report \")\n",
    "print(classification_report(Test_Y, predictions_NB))\n",
    "print(\"Naive Bayes Accuracy Score ->\",metrics.accuracy_score(Test_Y, predictions_NB))"
   ]
  },
  {
   "cell_type": "code",
   "execution_count": 10,
   "metadata": {},
   "outputs": [],
   "source": [
    "import matplotlib.pyplot as plt\n",
    "def plot_confusion_matrix(cm, classes, normalize=False, title='Confusion matrix', cmap=plt.cm.Blues):\n",
    "    if normalize:\n",
    "        cm = cm.astype('float') / cm.sum(axis=1)[:, np.newaxis]\n",
    "\n",
    "    plt.figure(figsize=(8, 8))\n",
    "    plt.imshow(cm, interpolation='nearest', cmap=cmap)\n",
    "    plt.title(title)\n",
    "    plt.colorbar()\n",
    "    tick_marks = np.arange(len(classes))\n",
    "    plt.xticks(tick_marks, classes, rotation=45)\n",
    "    plt.yticks(tick_marks, classes)\n",
    "\n",
    "    fmt = '.2f' if normalize else 'd'\n",
    "    thresh = cm.max() / 2.\n",
    "    for i, j in itertools.product(range(cm.shape[0]), range(cm.shape[1])):\n",
    "        plt.text(j, i, format(cm[i, j], fmt),\n",
    "                 horizontalalignment=\"center\",\n",
    "                 color=\"white\" if cm[i, j] > thresh else \"black\")\n",
    "\n",
    "    plt.tight_layout()\n",
    "    plt.ylabel('True label')\n",
    "    plt.xlabel('Predicted label')"
   ]
  },
  {
   "cell_type": "code",
   "execution_count": 12,
   "metadata": {},
   "outputs": [
    {
     "data": {
      "image/png": "[encoded data removed]",
      "text/plain": [
       "<Figure size 576x576 with 2 Axes>"
      ]
     },
     "metadata": {
      "needs_background": "light"
     },
     "output_type": "display_data"
    }
   ],
   "source": [
    "plot_confusion_matrix(cm(Test_Y, predictions_NB), classes=['1', '2','3','4','5'], title='Confusion matrix')"
   ]
  },
  {
   "cell_type": "code",
   "execution_count": 13,
   "metadata": {},
   "outputs": [
    {
     "name": "stderr",
     "output_type": "stream",
     "text": [
      "/usr/local/lib/python3.5/dist-packages/sklearn/linear_model/logistic.py:432: FutureWarning: Default solver will be changed to 'lbfgs' in 0.22. Specify a solver to silence this warning.\n",
      "  FutureWarning)\n",
      "/usr/local/lib/python3.5/dist-packages/sklearn/linear_model/logistic.py:469: FutureWarning: Default multi_class will be changed to 'auto' in 0.22. Specify the multi_class option to silence this warning.\n",
      "  \"this warning.\", FutureWarning)\n"
     ]
    },
    {
     "name": "stdout",
     "output_type": "stream",
     "text": [
      "[[ 3700  1215   738   508   401]\n",
      " [ 1422  1517  1396   947   480]\n",
      " [  565  1270  2380  2727  1294]\n",
      " [  298   837  2301  6474  5855]\n",
      " [  285   525  1424  4962 16479]]\n",
      "\n",
      "\n",
      "Classification Report \n",
      "              precision    recall  f1-score   support\n",
      "\n",
      "           0       0.59      0.56      0.58      6562\n",
      "           1       0.28      0.26      0.27      5762\n",
      "           2       0.29      0.29      0.29      8236\n",
      "           3       0.41      0.41      0.41     15765\n",
      "           4       0.67      0.70      0.68     23675\n",
      "\n",
      "    accuracy                           0.51     60000\n",
      "   macro avg       0.45      0.44      0.45     60000\n",
      "weighted avg       0.51      0.51      0.51     60000\n",
      "\n",
      "log reg  Accuracy Score -> 0.5091666666666667\n"
     ]
    },
    {
     "name": "stderr",
     "output_type": "stream",
     "text": [
      "/usr/local/lib/python3.5/dist-packages/sklearn/svm/base.py:929: ConvergenceWarning: Liblinear failed to converge, increase the number of iterations.\n",
      "  \"the number of iterations.\", ConvergenceWarning)\n"
     ]
    }
   ],
   "source": [
    "from sklearn.linear_model import LogisticRegression\n",
    "logreg = LogisticRegression(n_jobs=1, C=1e5)\n",
    "logreg.fit(Train_X_Tfidf,Train_Y)\n",
    "y_pred = logreg.predict(Test_X_Tfidf)\n",
    "print(cm(Test_Y, y_pred))\n",
    "print('\\n')\n",
    "print(\"Classification Report \")\n",
    "print(classification_report(Test_Y, y_pred))\n",
    "print(\"log reg  Accuracy Score ->\",metrics.accuracy_score(Test_Y, y_pred))"
   ]
  },
  {
   "cell_type": "code",
   "execution_count": 14,
   "metadata": {},
   "outputs": [
    {
     "data": {
      "image/png": "[encoded data removed]",
      "text/plain": [
       "<Figure size 576x576 with 2 Axes>"
      ]
     },
     "metadata": {
      "needs_background": "light"
     },
     "output_type": "display_data"
    }
   ],
   "source": [
    "plot_confusion_matrix(cm(Test_Y, y_pred), classes=['1', '2','3','4','5'], title='Confusion matrix')"
   ]
  },
  {
   "cell_type": "code",
   "execution_count": 31,
   "metadata": {},
   "outputs": [
    {
     "name": "stdout",
     "output_type": "stream",
     "text": [
      "----\n",
      "[[ 4805   849   388   205   315]\n",
      " [ 1719  1521  1396   713   413]\n",
      " [  544   920  2782  2941  1049]\n",
      " [  209   279  1383  7437  6457]\n",
      " [  148    89   336  3734 19368]]\n",
      "\n",
      "\n",
      "Classification Report \n",
      "              precision    recall  f1-score   support\n",
      "\n",
      "           0       0.65      0.73      0.69      6562\n",
      "           1       0.42      0.26      0.32      5762\n",
      "           2       0.44      0.34      0.38      8236\n",
      "           3       0.49      0.47      0.48     15765\n",
      "           4       0.70      0.82      0.76     23675\n",
      "\n",
      "    accuracy                           0.60     60000\n",
      "   macro avg       0.54      0.52      0.53     60000\n",
      "weighted avg       0.58      0.60      0.58     60000\n",
      "\n",
      "linear SVC Accuracy Score  Count vect-> 0.59855\n"
     ]
    }
   ],
   "source": [
    "from sklearn.svm import LinearSVC\n",
    "model = LinearSVC()\n",
    "model.fit(Train_X_Tfidf,Train_Y)\n",
    "print('----')\n",
    "y_pred_svc = model.predict(Test_X_Tfidf)\n",
    "print(cm(Test_Y, y_pred_svc))\n",
    "print('\\n')\n",
    "print(\"Classification Report \")\n",
    "print(classification_report(Test_Y, y_pred_svc))\n",
    "print(\"linear SVC Accuracy Score  Count vect->\",metrics.accuracy_score(Test_Y, y_pred_svc))"
   ]
  },
  {
   "cell_type": "code",
   "execution_count": 32,
   "metadata": {},
   "outputs": [
    {
     "data": {
      "image/png": "[encoded data removed]",
      "text/plain": [
       "<Figure size 576x576 with 2 Axes>"
      ]
     },
     "metadata": {
      "needs_background": "light"
     },
     "output_type": "display_data"
    }
   ],
   "source": [
    "plot_confusion_matrix(cm(Test_Y, y_pred_svc), classes=['1', '2','3','4','5'], title='Confusion matrix nb count vect')"
   ]
  },
  {
   "cell_type": "code",
   "execution_count": 61,
   "metadata": {},
   "outputs": [],
   "source": [
    "from sklearn.feature_extraction.text import CountVectorizer\n",
    "vec = CountVectorizer()\n",
    "data = vec.fit_transform(data_com_buisness['text_1'])"
   ]
  },
  {
   "cell_type": "code",
   "execution_count": 62,
   "metadata": {},
   "outputs": [
    {
     "name": "stdout",
     "output_type": "stream",
     "text": [
      "(200000, 94322)\n",
      "<class 'scipy.sparse.csr.csr_matrix'>\n"
     ]
    }
   ],
   "source": [
    "vector = vec.transform(data_com_buisness['text_1'])\n",
    "# summarize encoded vector\n",
    "print(vector.shape)\n",
    "print(type(vector))"
   ]
  },
  {
   "cell_type": "code",
   "execution_count": 63,
   "metadata": {},
   "outputs": [],
   "source": [
    "Train_X_count_vec = vec.transform(Train_X.values.astype('U'))\n",
    "Test_X_count_vec = vec.transform(Test_X.values.astype('U'))"
   ]
  },
  {
   "cell_type": "code",
   "execution_count": null,
   "metadata": {},
   "outputs": [],
   "source": [
    "from sklearn.metrics import confusion_matrix as cm,classification_report\n",
    "import sklearn.metrics as metrics\n",
    "from sklearn.ensemble import GradientBoostingClassifier\n",
    "\n",
    "gb_clf = GradientBoostingClassifier(n_estimators=20, learning_rate=0.5, max_features=1900, max_depth=55, random_state=0)\n",
    "gb_clf.fit(Train_X_count_vec,Train_Y)"
   ]
  },
  {
   "cell_type": "code",
   "execution_count": null,
   "metadata": {},
   "outputs": [],
   "source": [
    "predictions = gb_clf.predict(Test_X_count_vec)\n",
    "print(cm(Test_Y, predictions))\n",
    "print('\\n')\n",
    "print(\"Classification Report \")\n",
    "print(classification_report(Test_Y, predictions))\n",
    "print(\"gradiant  forest Accuracy Score ->\",metrics.accuracy_score(Test_Y, predictions))"
   ]
  },
  {
   "cell_type": "code",
   "execution_count": 20,
   "metadata": {},
   "outputs": [
    {
     "name": "stdout",
     "output_type": "stream",
     "text": [
      "[[ 4474  1190   460   224   214]\n",
      " [ 1584  1432  1680   732   334]\n",
      " [  789   737  2843  2933   934]\n",
      " [  512   273  1875  7092  6013]\n",
      " [  701    81   526  3745 18622]]\n",
      "\n",
      "\n",
      "Classification Report \n",
      "              precision    recall  f1-score   support\n",
      "\n",
      "           0       0.56      0.68      0.61      6562\n",
      "           1       0.39      0.25      0.30      5762\n",
      "           2       0.39      0.35      0.36      8236\n",
      "           3       0.48      0.45      0.47     15765\n",
      "           4       0.71      0.79      0.75     23675\n",
      "\n",
      "    accuracy                           0.57     60000\n",
      "   macro avg       0.50      0.50      0.50     60000\n",
      "weighted avg       0.56      0.57      0.56     60000\n",
      "\n",
      "Naive Bayes Accuracy Score using count vect -> 0.5743833333333334\n"
     ]
    }
   ],
   "source": [
    "from sklearn.metrics import confusion_matrix as cm,classification_report\n",
    "import sklearn.metrics as metrics\n",
    "Naive = naive_bayes.MultinomialNB()\n",
    "Naive.fit(Train_X_count_vec,Train_Y)\n",
    "# predict the labels on validation dataset\n",
    "predictions_NB = Naive.predict(Test_X_count_vec)\n",
    "# Use accuracy_score function to get the accuracy\n",
    "#print(\"Naive Bayes Accuracy Score -> \",accuracy_score(predictions_NB, Test_Y)*100)\n",
    "print(cm(Test_Y, predictions_NB))\n",
    "print('\\n')\n",
    "print(\"Classification Report \")\n",
    "print(classification_report(Test_Y, predictions_NB))\n",
    "print(\"Naive Bayes Accuracy Score using count vect ->\",metrics.accuracy_score(Test_Y, predictions_NB))"
   ]
  },
  {
   "cell_type": "code",
   "execution_count": 21,
   "metadata": {},
   "outputs": [
    {
     "data": {
      "image/png": "[encoded data removed]",
      "text/plain": [
       "<Figure size 576x576 with 2 Axes>"
      ]
     },
     "metadata": {
      "needs_background": "light"
     },
     "output_type": "display_data"
    }
   ],
   "source": [
    "plot_confusion_matrix(cm(Test_Y, predictions_NB), classes=['1', '2','3','4','5'], title='Confusion matrix nb count vect')"
   ]
  },
  {
   "cell_type": "code",
   "execution_count": 22,
   "metadata": {},
   "outputs": [
    {
     "name": "stderr",
     "output_type": "stream",
     "text": [
      "/usr/local/lib/python3.5/dist-packages/sklearn/linear_model/logistic.py:432: FutureWarning: Default solver will be changed to 'lbfgs' in 0.22. Specify a solver to silence this warning.\n",
      "  FutureWarning)\n",
      "/usr/local/lib/python3.5/dist-packages/sklearn/linear_model/logistic.py:469: FutureWarning: Default multi_class will be changed to 'auto' in 0.22. Specify the multi_class option to silence this warning.\n",
      "  \"this warning.\", FutureWarning)\n",
      "/usr/local/lib/python3.5/dist-packages/sklearn/svm/base.py:929: ConvergenceWarning: Liblinear failed to converge, increase the number of iterations.\n",
      "  \"the number of iterations.\", ConvergenceWarning)\n"
     ]
    },
    {
     "name": "stdout",
     "output_type": "stream",
     "text": [
      "[[ 4279  1134   475   295   379]\n",
      " [ 1472  1668  1384   767   471]\n",
      " [  497  1148  2729  2742  1120]\n",
      " [  223   489  1634  6983  6436]\n",
      " [  178   210   468  3957 18862]]\n",
      "\n",
      "\n",
      "Classification Report \n",
      "              precision    recall  f1-score   support\n",
      "\n",
      "           0       0.64      0.65      0.65      6562\n",
      "           1       0.36      0.29      0.32      5762\n",
      "           2       0.41      0.33      0.37      8236\n",
      "           3       0.47      0.44      0.46     15765\n",
      "           4       0.69      0.80      0.74     23675\n",
      "\n",
      "    accuracy                           0.58     60000\n",
      "   macro avg       0.52      0.50      0.51     60000\n",
      "weighted avg       0.56      0.58      0.56     60000\n",
      "\n",
      "log reg  Accuracy Score -> 0.57535\n"
     ]
    }
   ],
   "source": [
    "from sklearn.linear_model import LogisticRegression\n",
    "logreg = LogisticRegression(n_jobs=1, C=1e5)\n",
    "logreg.fit(Train_X_count_vec, Train_Y)\n",
    "y_pred = logreg.predict(Test_X_count_vec)\n",
    "print(cm(Test_Y, y_pred))\n",
    "print('\\n')\n",
    "print(\"Classification Report \")\n",
    "print(classification_report(Test_Y, y_pred))\n",
    "print(\"log reg  Accuracy Score ->\",metrics.accuracy_score(Test_Y, y_pred))"
   ]
  },
  {
   "cell_type": "code",
   "execution_count": 23,
   "metadata": {},
   "outputs": [
    {
     "data": {
      "image/png": "[encoded data removed]",
      "text/plain": [
       "<Figure size 576x576 with 2 Axes>"
      ]
     },
     "metadata": {
      "needs_background": "light"
     },
     "output_type": "display_data"
    }
   ],
   "source": [
    "plot_confusion_matrix(cm(Test_Y, y_pred), classes=['1', '2','3','4','5'], title='Confusion matrix log reg count vect')"
   ]
  },
  {
   "cell_type": "code",
   "execution_count": 24,
   "metadata": {},
   "outputs": [
    {
     "name": "stdout",
     "output_type": "stream",
     "text": [
      "----\n",
      "[[ 4268  1061   500   318   415]\n",
      " [ 1542  1621  1379   741   479]\n",
      " [  560  1141  2682  2673  1180]\n",
      " [  254   501  1832  6628  6550]\n",
      " [  190   222   636  3923 18704]]\n",
      "\n",
      "\n",
      "Classification Report \n",
      "              precision    recall  f1-score   support\n",
      "\n",
      "           0       0.63      0.65      0.64      6562\n",
      "           1       0.36      0.28      0.31      5762\n",
      "           2       0.38      0.33      0.35      8236\n",
      "           3       0.46      0.42      0.44     15765\n",
      "           4       0.68      0.79      0.73     23675\n",
      "\n",
      "    accuracy                           0.57     60000\n",
      "   macro avg       0.50      0.49      0.50     60000\n",
      "weighted avg       0.55      0.57      0.55     60000\n",
      "\n",
      "linear SVC Accuracy Score  Count vect-> 0.56505\n"
     ]
    }
   ],
   "source": [
    "from sklearn.svm import LinearSVC\n",
    "model = LinearSVC()\n",
    "model.fit(Train_X_count_vec, Train_Y)\n",
    "print('----')\n",
    "y_pred_svc = model.predict(Test_X_count_vec)\n",
    "print(cm(Test_Y, y_pred_svc))\n",
    "print('\\n')\n",
    "print(\"Classification Report \")\n",
    "print(classification_report(Test_Y, y_pred_svc))\n",
    "print(\"linear SVC Accuracy Score  Count vect->\",metrics.accuracy_score(Test_Y, y_pred_svc))"
   ]
  },
  {
   "cell_type": "code",
   "execution_count": 26,
   "metadata": {},
   "outputs": [
    {
     "data": {
      "image/png": "[encoded data removed]",
      "text/plain": [
       "<Figure size 576x576 with 2 Axes>"
      ]
     },
     "metadata": {
      "needs_background": "light"
     },
     "output_type": "display_data"
    }
   ],
   "source": [
    "plot_confusion_matrix(cm(Test_Y, y_pred_svc), classes=['1', '2','3','4','5'], title='Confusion matrix svm count vect')"
   ]
  },
  {
   "cell_type": "code",
   "execution_count": 33,
   "metadata": {},
   "outputs": [],
   "source": [
    "from sklearn.feature_extraction.text import CountVectorizer\n",
    "vec_transformed = CountVectorizer(min_df=200, max_df=150.0, lowercase=True)\n",
    "data = vec_transformed.fit_transform(data_com_buisness['text_1'])"
   ]
  },
  {
   "cell_type": "code",
   "execution_count": 34,
   "metadata": {},
   "outputs": [],
   "source": [
    "Train_X_count_vec_tran = vec_transformed.transform(Train_X.values.astype('U'))\n",
    "Test_X_count_vec_tran = vec_transformed.transform(Test_X.values.astype('U'))"
   ]
  },
  {
   "cell_type": "code",
   "execution_count": 35,
   "metadata": {},
   "outputs": [
    {
     "name": "stdout",
     "output_type": "stream",
     "text": [
      "[[ 4394  1408   379   159   222]\n",
      " [ 1556  1842  1488   545   331]\n",
      " [  791  1057  2992  2483   913]\n",
      " [  574   447  2101  6600  6043]\n",
      " [  870   170   657  3459 18519]]\n",
      "\n",
      "\n",
      "Classification Report \n",
      "              precision    recall  f1-score   support\n",
      "\n",
      "           0       0.54      0.67      0.60      6562\n",
      "           1       0.37      0.32      0.34      5762\n",
      "           2       0.39      0.36      0.38      8236\n",
      "           3       0.50      0.42      0.45     15765\n",
      "           4       0.71      0.78      0.75     23675\n",
      "\n",
      "    accuracy                           0.57     60000\n",
      "   macro avg       0.50      0.51      0.50     60000\n",
      "weighted avg       0.56      0.57      0.56     60000\n",
      "\n",
      "Naive Bayes Accuracy Score using count vect min df -> 0.57245\n"
     ]
    }
   ],
   "source": [
    "Naive_count = naive_bayes.MultinomialNB()\n",
    "Naive_count.fit(Train_X_count_vec_tran,Train_Y)\n",
    "# predict the labels on validation dataset\n",
    "predictions_NB_vec = Naive_count.predict(Test_X_count_vec_tran)\n",
    "# Use accuracy_score function to get the accuracy\n",
    "#print(\"Naive Bayes Accuracy Score -> \",accuracy_score(predictions_NB, Test_Y)*100)\n",
    "print(cm(Test_Y, predictions_NB_vec))\n",
    "print('\\n')\n",
    "print(\"Classification Report \")\n",
    "print(classification_report(Test_Y, predictions_NB_vec))\n",
    "print(\"Naive Bayes Accuracy Score using count vect min df ->\",metrics.accuracy_score(Test_Y, predictions_NB_vec))"
   ]
  },
  {
   "cell_type": "code",
   "execution_count": 36,
   "metadata": {},
   "outputs": [
    {
     "data": {
      "image/png": "[encoded data removed]",
      "text/plain": [
       "<Figure size 576x576 with 2 Axes>"
      ]
     },
     "metadata": {
      "needs_background": "light"
     },
     "output_type": "display_data"
    }
   ],
   "source": [
    "plot_confusion_matrix(cm(Test_Y, predictions_NB_vec), classes=['1', '2','3','4','5'], title='Confusion matrix nb count vect')"
   ]
  },
  {
   "cell_type": "code",
   "execution_count": 37,
   "metadata": {},
   "outputs": [
    {
     "name": "stdout",
     "output_type": "stream",
     "text": [
      "[[ 4822   670   314   251   505]\n",
      " [ 1789  1347  1277   727   622]\n",
      " [  582   784  2591  2812  1467]\n",
      " [  203   215  1069  6583  7695]\n",
      " [  126    56   219  2698 20576]]\n",
      "\n",
      "\n",
      "Classification Report \n",
      "              precision    recall  f1-score   support\n",
      "\n",
      "           0       0.64      0.73      0.68      6562\n",
      "           1       0.44      0.23      0.30      5762\n",
      "           2       0.47      0.31      0.38      8236\n",
      "           3       0.50      0.42      0.46     15765\n",
      "           4       0.67      0.87      0.75     23675\n",
      "\n",
      "    accuracy                           0.60     60000\n",
      "   macro avg       0.54      0.51      0.52     60000\n",
      "weighted avg       0.57      0.60      0.57     60000\n",
      "\n",
      "linear SVC Accuracy Score  Count vect-> 0.59865\n"
     ]
    },
    {
     "name": "stderr",
     "output_type": "stream",
     "text": [
      "/usr/local/lib/python3.5/dist-packages/sklearn/svm/base.py:929: ConvergenceWarning: Liblinear failed to converge, increase the number of iterations.\n",
      "  \"the number of iterations.\", ConvergenceWarning)\n"
     ]
    }
   ],
   "source": [
    "from sklearn.svm import LinearSVC\n",
    "model = LinearSVC()\n",
    "model.fit(Train_X_count_vec_tran, Train_Y)\n",
    "y_pred_svc1 = model.predict(Test_X_count_vec_tran)\n",
    "print(cm(Test_Y, y_pred_svc1))\n",
    "print('\\n')\n",
    "print(\"Classification Report \")\n",
    "print(classification_report(Test_Y, y_pred_svc1))\n",
    "print(\"linear SVC Accuracy Score  Count vect->\",metrics.accuracy_score(Test_Y, y_pred_svc1))"
   ]
  },
  {
   "cell_type": "code",
   "execution_count": null,
   "metadata": {},
   "outputs": [],
   "source": []
  },
  {
   "cell_type": "code",
   "execution_count": 38,
   "metadata": {},
   "outputs": [
    {
     "data": {
      "image/png": "[encoded data removed]",
      "text/plain": [
       "<Figure size 576x576 with 2 Axes>"
      ]
     },
     "metadata": {
      "needs_background": "light"
     },
     "output_type": "display_data"
    }
   ],
   "source": [
    "plot_confusion_matrix(cm(Test_Y, y_pred_svc1), classes=['1', '2','3','4','5'], title='Confusion matrix svc vect')"
   ]
  },
  {
   "cell_type": "code",
   "execution_count": 39,
   "metadata": {},
   "outputs": [
    {
     "name": "stderr",
     "output_type": "stream",
     "text": [
      "/usr/local/lib/python3.5/dist-packages/sklearn/linear_model/logistic.py:432: FutureWarning: Default solver will be changed to 'lbfgs' in 0.22. Specify a solver to silence this warning.\n",
      "  FutureWarning)\n",
      "/usr/local/lib/python3.5/dist-packages/sklearn/linear_model/logistic.py:469: FutureWarning: Default multi_class will be changed to 'auto' in 0.22. Specify the multi_class option to silence this warning.\n",
      "  \"this warning.\", FutureWarning)\n"
     ]
    },
    {
     "name": "stdout",
     "output_type": "stream",
     "text": [
      "[[ 4681   784   360   279   458]\n",
      " [ 1645  1418  1375   759   565]\n",
      " [  518   820  2749  2858  1291]\n",
      " [  160   217  1223  6966  7199]\n",
      " [  127    57   241  3007 20243]]\n",
      "\n",
      "\n",
      "Classification Report \n",
      "              precision    recall  f1-score   support\n",
      "\n",
      "           0       0.66      0.71      0.68      6562\n",
      "           1       0.43      0.25      0.31      5762\n",
      "           2       0.46      0.33      0.39      8236\n",
      "           3       0.50      0.44      0.47     15765\n",
      "           4       0.68      0.86      0.76     23675\n",
      "\n",
      "    accuracy                           0.60     60000\n",
      "   macro avg       0.55      0.52      0.52     60000\n",
      "weighted avg       0.58      0.60      0.58     60000\n",
      "\n",
      "log reg  Accuracy Score -> 0.60095\n"
     ]
    }
   ],
   "source": [
    "from sklearn.linear_model import LogisticRegression\n",
    "logreg1 = LogisticRegression(n_jobs=1, C=1e5)\n",
    "logreg1.fit(Train_X_count_vec_tran, Train_Y)\n",
    "y_pred_vect_1 = logreg1.predict(Test_X_count_vec_tran)\n",
    "print(cm(Test_Y, y_pred_vect_1))\n",
    "print('\\n')\n",
    "print(\"Classification Report \")\n",
    "print(classification_report(Test_Y, y_pred_vect_1))\n",
    "print(\"log reg  Accuracy Score ->\",metrics.accuracy_score(Test_Y, y_pred_vect_1))"
   ]
  },
  {
   "cell_type": "code",
   "execution_count": 40,
   "metadata": {},
   "outputs": [
    {
     "data": {
      "image/png": "[encoded data removed]",
      "text/plain": [
       "<Figure size 576x576 with 2 Axes>"
      ]
     },
     "metadata": {
      "needs_background": "light"
     },
     "output_type": "display_data"
    }
   ],
   "source": [
    "plot_confusion_matrix(cm(Test_Y, y_pred_vect_1), classes=['1', '2','3','4','5'], title='Confusion matrix svc vect')"
   ]
  },
  {
   "cell_type": "code",
   "execution_count": 42,
   "metadata": {},
   "outputs": [
    {
     "name": "stdout",
     "output_type": "stream",
     "text": [
      "[[ 2641   647  1334   551  1389]\n",
      " [ 1439   748  1273   832  1470]\n",
      " [ 1252   811  2037  1765  2371]\n",
      " [ 1277   868  3058  3755  6807]\n",
      " [ 1295   622  4228  3728 13802]]\n",
      "\n",
      "\n",
      "Classification Report \n",
      "              precision    recall  f1-score   support\n",
      "\n",
      "           0       0.33      0.40      0.37      6562\n",
      "           1       0.20      0.13      0.16      5762\n",
      "           2       0.17      0.25      0.20      8236\n",
      "           3       0.35      0.24      0.28     15765\n",
      "           4       0.53      0.58      0.56     23675\n",
      "\n",
      "    accuracy                           0.38     60000\n",
      "   macro avg       0.32      0.32      0.31     60000\n",
      "weighted avg       0.38      0.38      0.38     60000\n",
      "\n",
      "log reg  Accuracy Score -> 0.38305\n"
     ]
    }
   ],
   "source": [
    "from sklearn.neighbors import KNeighborsClassifier\n",
    "\n",
    "kmodel = KNeighborsClassifier(n_neighbors=3)\n",
    "kmodel.fit(Train_X_count_vec_tran, Train_Y)\n",
    "y_pred_vect_1 = kmodel.predict(Test_X_count_vec_tran)\n",
    "print(cm(Test_Y, y_pred_vect_1))\n",
    "print('\\n')\n",
    "print(\"Classification Report \")\n",
    "print(classification_report(Test_Y, y_pred_vect_1))\n",
    "print(\"knn  Accuracy Score ->\",metrics.accuracy_score(Test_Y, y_pred_vect_1))"
   ]
  },
  {
   "cell_type": "code",
   "execution_count": 4,
   "metadata": {},
   "outputs": [],
   "source": [
    "from collections import Counter\n",
    " \n",
    "def balance_classes(xs, ys):\n",
    "##\"\"\"Undersample xs, ys to balance classes.\"\"\"\n",
    "  freqs = Counter(ys)\n",
    "  max_allowable = freqs.most_common()[-1][1]\n",
    "  num_added = {clss: 0 for clss in freqs.keys()}  \n",
    "  new_ys = []\n",
    "  new_xs = []\n",
    "  for i, y in enumerate(ys):\n",
    "    if num_added[y] < max_allowable:\n",
    "       new_ys.append(y)\n",
    "       new_xs.append(xs[i])\n",
    "       num_added[y] += 1\n",
    "  return new_xs, new_ys"
   ]
  },
  {
   "cell_type": "code",
   "execution_count": 5,
   "metadata": {},
   "outputs": [
    {
     "name": "stdout",
     "output_type": "stream",
     "text": [
      "Counter({5: 78617, 4: 52579, 3: 27848, 1: 22068, 2: 18888})\n",
      "Counter({1: 18888, 2: 18888, 3: 18888, 4: 18888, 5: 18888})\n"
     ]
    }
   ],
   "source": [
    "print(Counter(data_com_buisness['stars_y']))\n",
    "balanced_x, balanced_y = balance_classes(data_com_buisness['text_1'], data_com_buisness['stars_y'])\n",
    "print(Counter(balanced_y))"
   ]
  },
  {
   "cell_type": "code",
   "execution_count": 6,
   "metadata": {},
   "outputs": [],
   "source": [
    "Train_X_balanced, Test_X_balanced, Train_Y_balanced, Test_Y_balanced = model_selection.train_test_split(balanced_x,balanced_y,test_size=0.3)"
   ]
  },
  {
   "cell_type": "code",
   "execution_count": 7,
   "metadata": {},
   "outputs": [],
   "source": [
    "from sklearn.feature_extraction.text import CountVectorizer\n",
    "vec_transformed = CountVectorizer(min_df=200, max_df=150.0, lowercase=True)\n",
    "data = vec_transformed.fit_transform(balanced_x)"
   ]
  },
  {
   "cell_type": "code",
   "execution_count": 8,
   "metadata": {},
   "outputs": [],
   "source": [
    "Train_X_count_vec_bal = vec_transformed.transform(Train_X_balanced)\n",
    "Test_X_count_vec_bal = vec_transformed.transform(Test_X_balanced)"
   ]
  },
  {
   "cell_type": "code",
   "execution_count": 50,
   "metadata": {},
   "outputs": [
    {
     "name": "stdout",
     "output_type": "stream",
     "text": [
      "[[3808 1450  239  120  124]\n",
      " [1486 2079 1329  479  259]\n",
      " [ 599  879 2191 1479  447]\n",
      " [ 212  181  755 2525 2007]\n",
      " [ 251   78  176  781 4398]]\n",
      "\n",
      "\n",
      "Classification Report \n",
      "              precision    recall  f1-score   support\n",
      "\n",
      "         1.0       0.60      0.66      0.63      5741\n",
      "         2.0       0.45      0.37      0.40      5632\n",
      "         3.0       0.47      0.39      0.43      5595\n",
      "         4.0       0.47      0.44      0.46      5680\n",
      "         5.0       0.61      0.77      0.68      5684\n",
      "\n",
      "    accuracy                           0.53     28332\n",
      "   macro avg       0.52      0.53      0.52     28332\n",
      "weighted avg       0.52      0.53      0.52     28332\n",
      "\n",
      "Naive Bayes Accuracy Score using count vect min df -> 0.5294719751517718\n"
     ]
    }
   ],
   "source": [
    "Naive_count = naive_bayes.MultinomialNB()\n",
    "Naive_count.fit(Train_X_count_vec_bal,Train_Y_balanced)\n",
    "# predict the labels on validation dataset\n",
    "predictions_NB_vec = Naive_count.predict(Test_X_count_vec_bal)\n",
    "# Use accuracy_score function to get the accuracy\n",
    "#print(\"Naive Bayes Accuracy Score -> \",accuracy_score(predictions_NB, Test_Y)*100)\n",
    "print(cm(Test_Y_balanced, predictions_NB_vec))\n",
    "print('\\n')\n",
    "print(\"Classification Report \")\n",
    "print(classification_report(Test_Y_balanced, predictions_NB_vec))\n",
    "print(\"Naive Bayes Accuracy Score using count vect min df ->\",metrics.accuracy_score(Test_Y_balanced, predictions_NB_vec))"
   ]
  },
  {
   "cell_type": "code",
   "execution_count": 51,
   "metadata": {},
   "outputs": [
    {
     "data": {
      "image/png": "[encoded data removed]",
      "text/plain": [
       "<Figure size 576x576 with 2 Axes>"
      ]
     },
     "metadata": {
      "needs_background": "light"
     },
     "output_type": "display_data"
    }
   ],
   "source": [
    "plot_confusion_matrix(cm(Test_Y_balanced, predictions_NB_vec), classes=['1', '2','3','4','5'], title='Confusion matrix nb')"
   ]
  },
  {
   "cell_type": "code",
   "execution_count": 52,
   "metadata": {},
   "outputs": [
    {
     "name": "stdout",
     "output_type": "stream",
     "text": [
      "[[4309  963  226   97  146]\n",
      " [1785 2166 1129  315  237]\n",
      " [ 562 1075 2373 1155  430]\n",
      " [ 132  212  860 2572 1904]\n",
      " [  87   57  154  923 4463]]\n",
      "\n",
      "\n",
      "Classification Report \n",
      "              precision    recall  f1-score   support\n",
      "\n",
      "         1.0       0.63      0.75      0.68      5741\n",
      "         2.0       0.48      0.38      0.43      5632\n",
      "         3.0       0.50      0.42      0.46      5595\n",
      "         4.0       0.51      0.45      0.48      5680\n",
      "         5.0       0.62      0.79      0.69      5684\n",
      "\n",
      "    accuracy                           0.56     28332\n",
      "   macro avg       0.55      0.56      0.55     28332\n",
      "weighted avg       0.55      0.56      0.55     28332\n",
      "\n",
      "linear SVC Accuracy Score  Count vect-> 0.5606028518989129\n"
     ]
    },
    {
     "name": "stderr",
     "output_type": "stream",
     "text": [
      "/usr/local/lib/python3.5/dist-packages/sklearn/svm/base.py:929: ConvergenceWarning: Liblinear failed to converge, increase the number of iterations.\n",
      "  \"the number of iterations.\", ConvergenceWarning)\n"
     ]
    }
   ],
   "source": [
    "from sklearn.svm import LinearSVC\n",
    "model = LinearSVC()\n",
    "model.fit(Train_X_count_vec_bal,Train_Y_balanced)\n",
    "y_pred_svc1 = model.predict(Test_X_count_vec_bal)\n",
    "print(cm(Test_Y_balanced, y_pred_svc1))\n",
    "print('\\n')\n",
    "print(\"Classification Report \")\n",
    "print(classification_report(Test_Y_balanced, y_pred_svc1))\n",
    "print(\"linear SVC Accuracy Score  Count vect->\",metrics.accuracy_score(Test_Y_balanced, y_pred_svc1))"
   ]
  },
  {
   "cell_type": "code",
   "execution_count": 53,
   "metadata": {},
   "outputs": [
    {
     "data": {
      "image/png": "[encoded data removed]",
      "text/plain": [
       "<Figure size 576x576 with 2 Axes>"
      ]
     },
     "metadata": {
      "needs_background": "light"
     },
     "output_type": "display_data"
    }
   ],
   "source": [
    "plot_confusion_matrix(cm(Test_Y_balanced, y_pred_svc1), classes=['1', '2','3','4','5'], title='Confusion matrix nb')"
   ]
  },
  {
   "cell_type": "code",
   "execution_count": 54,
   "metadata": {},
   "outputs": [
    {
     "name": "stderr",
     "output_type": "stream",
     "text": [
      "/usr/local/lib/python3.5/dist-packages/sklearn/linear_model/logistic.py:432: FutureWarning: Default solver will be changed to 'lbfgs' in 0.22. Specify a solver to silence this warning.\n",
      "  FutureWarning)\n",
      "/usr/local/lib/python3.5/dist-packages/sklearn/linear_model/logistic.py:469: FutureWarning: Default multi_class will be changed to 'auto' in 0.22. Specify the multi_class option to silence this warning.\n",
      "  \"this warning.\", FutureWarning)\n"
     ]
    },
    {
     "name": "stdout",
     "output_type": "stream",
     "text": [
      "[[4169 1081  256  102  133]\n",
      " [1604 2310 1191  322  205]\n",
      " [ 481 1132 2488 1121  373]\n",
      " [ 114  226  950 2624 1766]\n",
      " [  85   68  186 1000 4345]]\n",
      "\n",
      "\n",
      "Classification Report \n",
      "              precision    recall  f1-score   support\n",
      "\n",
      "         1.0       0.65      0.73      0.68      5741\n",
      "         2.0       0.48      0.41      0.44      5632\n",
      "         3.0       0.49      0.44      0.47      5595\n",
      "         4.0       0.51      0.46      0.48      5680\n",
      "         5.0       0.64      0.76      0.69      5684\n",
      "\n",
      "    accuracy                           0.56     28332\n",
      "   macro avg       0.55      0.56      0.55     28332\n",
      "weighted avg       0.55      0.56      0.55     28332\n",
      "\n",
      "log reg  Accuracy Score -> 0.5624735281660314\n"
     ]
    }
   ],
   "source": [
    "from sklearn.linear_model import LogisticRegression\n",
    "logreg1 = LogisticRegression(n_jobs=1, C=1e5)\n",
    "logreg1.fit(Train_X_count_vec_bal,Train_Y_balanced)\n",
    "y_pred_vect_1 = logreg1.predict(Test_X_count_vec_bal)\n",
    "print(cm(Test_Y_balanced, y_pred_vect_1))\n",
    "print('\\n')\n",
    "print(\"Classification Report \")\n",
    "print(classification_report(Test_Y_balanced, y_pred_vect_1))\n",
    "print(\"log reg  Accuracy Score ->\",metrics.accuracy_score(Test_Y_balanced, y_pred_vect_1))"
   ]
  },
  {
   "cell_type": "code",
   "execution_count": 55,
   "metadata": {},
   "outputs": [
    {
     "data": {
      "image/png": "[encoded data removed]",
      "text/plain": [
       "<Figure size 576x576 with 2 Axes>"
      ]
     },
     "metadata": {
      "needs_background": "light"
     },
     "output_type": "display_data"
    }
   ],
   "source": [
    "plot_confusion_matrix(cm(Test_Y_balanced, y_pred_vect_1), classes=['1', '2','3','4','5'], title='Confusion matrix log reg')"
   ]
  },
  {
   "cell_type": "code",
   "execution_count": 9,
   "metadata": {},
   "outputs": [
    {
     "name": "stdout",
     "output_type": "stream",
     "text": [
      "---\n",
      "[[3899 1223  285   89   65]\n",
      " [1505 2554 1197  244  101]\n",
      " [ 381 1358 2596 1091  248]\n",
      " [ 108  345 1086 2646 1498]\n",
      " [ 106  116  277 1241 4073]]\n",
      "\n",
      "\n",
      "Classification Report \n",
      "              precision    recall  f1-score   support\n",
      "\n",
      "           1       0.65      0.70      0.67      5561\n",
      "           2       0.46      0.46      0.46      5601\n",
      "           3       0.48      0.46      0.47      5674\n",
      "           4       0.50      0.47      0.48      5683\n",
      "           5       0.68      0.70      0.69      5813\n",
      "\n",
      "    accuracy                           0.56     28332\n",
      "   macro avg       0.55      0.56      0.55     28332\n",
      "weighted avg       0.55      0.56      0.55     28332\n",
      "\n",
      "log reg  Accuracy Score -> 0.5565438373570522\n"
     ]
    }
   ],
   "source": [
    "from sklearn import  svm\n",
    "\n",
    "SVM = svm.SVC(C=1.0, kernel='linear', degree=3, gamma='auto')\n",
    "SVM.fit(Train_X_count_vec_bal,Train_Y_balanced)\n",
    "print('---')\n",
    "# predict the labels on validation dataset\n",
    "predictions_SVM = SVM.predict(Test_X_count_vec_bal)\n",
    "\n",
    "print(cm(Test_Y_balanced, predictions_SVM))\n",
    "print('\\n')\n",
    "print(\"Classification Report \")\n",
    "print(classification_report(Test_Y_balanced, predictions_SVM))\n",
    "print(\"log reg  Accuracy Score ->\",metrics.accuracy_score(Test_Y_balanced, predictions_SVM))"
   ]
  },
  {
   "cell_type": "code",
   "execution_count": null,
   "metadata": {},
   "outputs": [],
   "source": []
  }
 ],
 "metadata": {
  "kernelspec": {
   "display_name": "Python 3",
   "language": "python",
   "name": "python3"
  },
  "language_info": {
   "codemirror_mode": {
    "name": "ipython",
    "version": 3
   },
   "file_extension": ".py",
   "mimetype": "text/x-python",
   "name": "python",
   "nbconvert_exporter": "python",
   "pygments_lexer": "ipython3",
   "version": "3.5.3"
  }
 },
 "nbformat": 4,
 "nbformat_minor": 2
}
